{
 "cells": [
  {
   "cell_type": "code",
   "execution_count": 1,
   "id": "3ee7362f-e538-46a3-a990-4257d15f9985",
   "metadata": {},
   "outputs": [],
   "source": [
    "import numpy as np\n",
    "import matplotlib.pyplot as plt\n",
    "import split\n",
    "from ipywidgets import interact, interactive, fixed, interact_manual\n",
    "import ipywidgets as widgets"
   ]
  },
  {
   "cell_type": "code",
   "execution_count": 2,
   "id": "7866cc96-3dc7-4779-9d9b-0c6cafbfa79c",
   "metadata": {},
   "outputs": [],
   "source": [
    "l0 = 0.276 #in nanometer"
   ]
  },
  {
   "cell_type": "code",
   "execution_count": 3,
   "id": "3d070743-4350-452f-ac9e-1fdd63eae390",
   "metadata": {},
   "outputs": [],
   "source": [
    "E0 = 2.5 #\"energy of the wavepacket\" \n",
    "DE = 0.08 #spread of wavepacket in energy\n",
    "N = 1000 #number of position points\n",
    "V0 = 2. #height of the potential barrier\n",
    "a = 1 #in nanometer\n",
    "itnum = 400 #number of iterations for the time evolution"
   ]
  },
  {
   "cell_type": "code",
   "execution_count": 4,
   "id": "6b9869cd-93f0-4c06-bcc4-b975454e5868",
   "metadata": {},
   "outputs": [],
   "source": [
    "#calculate one scattering with the above parameters\n",
    "xs, sps, fw, T = split.scattering(E0 = E0, DE = DE, N = N, V0 = V0, a = a, itnum = itnum)"
   ]
  },
  {
   "cell_type": "code",
   "execution_count": 5,
   "id": "0633cb8b-2c9e-493d-bcf9-154821b45f23",
   "metadata": {},
   "outputs": [
    {
     "data": {
      "text/plain": [
       "<Figure size 432x288 with 0 Axes>"
      ]
     },
     "metadata": {},
     "output_type": "display_data"
    },
    {
     "data": {
      "application/vnd.jupyter.widget-view+json": {
       "model_id": "97ac2b397ae449f88b45090458ce3ceb",
       "version_major": 2,
       "version_minor": 0
      },
      "text/plain": [
       "interactive(children=(IntSlider(value=402, description='time', max=803, min=1), Output()), _dom_classes=('widg…"
      ]
     },
     "metadata": {},
     "output_type": "display_data"
    }
   ],
   "source": [
    "#take a look at the snapshots\n",
    "fig = plt.figure()\n",
    "\n",
    "def plots(time):\n",
    "    plt.ylim(-1,1)\n",
    "    plt.xlim(-100*l0,100*l0)\n",
    "    plt.xlabel(r\"$x$ [nm]\", fontsize = 16)\n",
    "    plt.ylabel(r\"$\\psi(x)$\", fontsize = 16)\n",
    "    plt.plot(xs*l0,np.real(sps[time]))\n",
    "    return\n",
    "\n",
    "interact(plots, time = (1,len(sps)-1));"
   ]
  },
  {
   "cell_type": "code",
   "execution_count": 6,
   "id": "04810b8f-0d7f-48f6-97b4-28fe9fd21cf7",
   "metadata": {},
   "outputs": [],
   "source": [
    "DE = 0.2 #spread of wavepacket in energy\n",
    "N = 1000 #number of position points\n",
    "V0 = 2. #height of the potential barrier\n",
    "a = 1 #in nanometer\n",
    "itnum = 400 #number of iterations for the time evolution"
   ]
  },
  {
   "cell_type": "code",
   "execution_count": 7,
   "id": "5432b5e0-3e92-45bf-8a6d-ac00ae13186f",
   "metadata": {},
   "outputs": [],
   "source": [
    "#do the scattering for several energy values\n",
    "E0s = np.linspace(2.1,5,100)\n",
    "acs = split.get_acurve_energies(Es = E0s, V0 = V0, width = a)"
   ]
  },
  {
   "cell_type": "code",
   "execution_count": 8,
   "id": "e8057d51-3089-4e1c-ae2f-64c3adbf7bcf",
   "metadata": {},
   "outputs": [],
   "source": [
    "#obtain only the transmission amplitudes now\n",
    "Ts = split.multi_scattering(E0s = E0s, DE = DE, N = N, V0 = V0, a = a, itnum = itnum)"
   ]
  },
  {
   "cell_type": "code",
   "execution_count": 10,
   "id": "ba69912a-724b-4aea-8885-34334fd069b4",
   "metadata": {},
   "outputs": [
    {
     "data": {
      "text/plain": [
       "Text(0, 0.5, '$T$')"
      ]
     },
     "execution_count": 10,
     "metadata": {},
     "output_type": "execute_result"
    },
    {
     "data": {
      "image/png": "[encoded data removed]",
      "text/plain": [
       "<Figure size 432x288 with 1 Axes>"
      ]
     },
     "metadata": {
      "needs_background": "light"
     },
     "output_type": "display_data"
    }
   ],
   "source": [
    "#take a look at the results\n",
    "fig = plt.figure()\n",
    "plt.plot(E0s,Ts, label = \"numerical\")\n",
    "plt.plot(E0s,acs, label = \"exact\")\n",
    "plt.ylim(0,1.1)\n",
    "plt.xlim(0)\n",
    "plt.legend()\n",
    "plt.xlabel(r\"$E_0$ [eV]\", fontsize = 16)\n",
    "plt.ylabel(r\"$T$\", fontsize = 16)"
   ]
  },
  {
   "cell_type": "markdown",
   "id": "7abeedc9-1ca9-4b80-9b7b-d7732dcebf9c",
   "metadata": {},
   "source": [
    "The numerical values seems to be good but maybe we can get better results if we try to fit the numerical method for the spread in energy DE"
   ]
  },
  {
   "cell_type": "code",
   "execution_count": 11,
   "id": "7ca9fc17-57c8-442f-8b4a-0f73eac5a2c0",
   "metadata": {},
   "outputs": [],
   "source": [
    "from scipy.optimize import curve_fit"
   ]
  },
  {
   "cell_type": "code",
   "execution_count": 12,
   "id": "ce28b245-1868-4b6d-9875-df46bef8eb4d",
   "metadata": {},
   "outputs": [],
   "source": [
    "#fir for DE\n",
    "p, pcov = curve_fit(lambda x, de: split.multi_scattering(x,de,N,V0,a,itnum), xdata = E0s, ydata = acs)"
   ]
  },
  {
   "cell_type": "code",
   "execution_count": 13,
   "id": "3212fb86-d1b1-4dd2-abde-10b24c63b8b2",
   "metadata": {},
   "outputs": [
    {
     "data": {
      "text/plain": [
       "0.0802834942789567"
      ]
     },
     "execution_count": 13,
     "metadata": {},
     "output_type": "execute_result"
    }
   ],
   "source": [
    "#the optimal DE value is this\n",
    "p[0]"
   ]
  },
  {
   "cell_type": "code",
   "execution_count": 15,
   "id": "7d6b2541-19cd-499b-9acf-822839127c56",
   "metadata": {},
   "outputs": [],
   "source": [
    "#now use this value to get a better fit\n",
    "DE = p[0]"
   ]
  },
  {
   "cell_type": "code",
   "execution_count": 16,
   "id": "a51a6178-f748-4180-a0b0-39d6f84b8deb",
   "metadata": {},
   "outputs": [],
   "source": [
    "fitted_Ts = split.multi_scattering(E0s = E0s, DE = DE, N = N, V0 = V0, a = a, itnum = itnum)"
   ]
  },
  {
   "cell_type": "code",
   "execution_count": 18,
   "id": "6d6642c5-b7e0-4924-b5bd-e2418ee4ec1b",
   "metadata": {},
   "outputs": [
    {
     "data": {
      "text/plain": [
       "Text(0, 0.5, '$T$')"
      ]
     },
     "execution_count": 18,
     "metadata": {},
     "output_type": "execute_result"
    },
    {
     "data": {
      "image/png": "[encoded data removed]",
      "text/plain": [
       "<Figure size 432x288 with 1 Axes>"
      ]
     },
     "metadata": {
      "needs_background": "light"
     },
     "output_type": "display_data"
    }
   ],
   "source": [
    "fig = plt.figure()\n",
    "plt.plot(E0s,fitted_Ts, label = \"numerical\")\n",
    "plt.plot(E0s,acs, label = \"exact\")\n",
    "plt.ylim(0,1.1)\n",
    "plt.xlim(0)\n",
    "plt.legend()\n",
    "plt.xlabel(r\"$E_0$ [eV]\", fontsize = 16)\n",
    "plt.ylabel(r\"$T$\", fontsize = 16)"
   ]
  },
  {
   "cell_type": "markdown",
   "id": "164b0564-9fe9-43db-8ac1-82e8e3842afd",
   "metadata": {},
   "source": [
    "With this value for the spread in E we get a very good fit."
   ]
  }
 ],
 "metadata": {
  "kernelspec": {
   "display_name": "Python 3 (ipykernel)",
   "language": "python",
   "name": "python3"
  },
  "language_info": {
   "codemirror_mode": {
    "name": "ipython",
    "version": 3
   },
   "file_extension": ".py",
   "mimetype": "text/x-python",
   "name": "python",
   "nbconvert_exporter": "python",
   "pygments_lexer": "ipython3",
   "version": "3.8.12"
  }
 },
 "nbformat": 4,
 "nbformat_minor": 5
}
