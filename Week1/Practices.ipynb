{
 "cells": [
  {
   "cell_type": "code",
   "execution_count": 1,
   "id": "3db7cd52",
   "metadata": {},
   "outputs": [],
   "source": [
    "import numpy as np\n",
    "import matplotlib.pyplot as plt"
   ]
  },
  {
   "cell_type": "markdown",
   "id": "1e883d93-39cb-4ed2-a69f-c9b4c71edf5e",
   "metadata": {},
   "source": [
    "## First task\n",
    "\n",
    "The task is to create a custom probability distribution using two (i) inverse cumulative distribution and (ii) Monte-Carlo methods.\n",
    "\n",
    "The custom probability distribution we create is \n",
    "\n",
    "\\begin{equation}\n",
    "P(X) = \\frac{3}{2} \\sqrt{1-X}\n",
    "\\end{equation}\n",
    "with $X\\in\\{0,1\\}$"
   ]
  },
  {
   "cell_type": "code",
   "execution_count": 2,
   "id": "60bacb17",
   "metadata": {},
   "outputs": [],
   "source": [
    "def P_x(): #probability distribution using the inverse cumulative distribution method\n",
    "    D = np.random.random() #random number with uniform distribution\n",
    "    return 1-(1-D)**(2/3) #express the random number X with the inverse of "
   ]
  },
  {
   "cell_type": "code",
   "execution_count": 3,
   "id": "cf2ef17f",
   "metadata": {},
   "outputs": [],
   "source": [
    "test1 = []\n",
    "sample_size = int(1e6)\n",
    "for i in range(sample_size):\n",
    "    test1.append(P_x())"
   ]
  },
  {
   "cell_type": "code",
   "execution_count": 4,
   "id": "7487bb28",
   "metadata": {},
   "outputs": [
    {
     "data": {
      "image/png": "[encoded data removed]",
      "text/plain": [
       "<Figure size 432x288 with 1 Axes>"
      ]
     },
     "metadata": {
      "needs_background": "light"
     },
     "output_type": "display_data"
    }
   ],
   "source": [
    "fig = plt.figure()\n",
    "plt.hist(test1, bins = 20);"
   ]
  },
  {
   "cell_type": "code",
   "execution_count": 5,
   "id": "c585c953",
   "metadata": {},
   "outputs": [],
   "source": [
    "def xypx(): #auxiliary function for the monte-carlo method\n",
    "    x = np.random.random() #create the random x coordinate\n",
    "    y = np.random.random()*(3/2) #create the random y coordinate\n",
    "    px= 3*np.sqrt(1-x)/2 #evaluate the probability density function we want to create\n",
    "    return x,y,px\n",
    "\n",
    "def P_x_MC(): #monte carlo method to create the probability density function\n",
    "    #method described by the lecture notes\n",
    "    x,y,px = xypx() \n",
    "    while px<y: \n",
    "        x,y,px = xypx()\n",
    "    return y"
   ]
  },
  {
   "cell_type": "code",
   "execution_count": 6,
   "id": "5c98adb9",
   "metadata": {},
   "outputs": [],
   "source": [
    "test2 = []\n",
    "sample_size = int(1e6)\n",
    "for i in range(sample_size):\n",
    "    test2.append(P_x_MC())"
   ]
  },
  {
   "cell_type": "code",
   "execution_count": 7,
   "id": "598c0967",
   "metadata": {},
   "outputs": [
    {
     "data": {
      "image/png": "[encoded data removed]",
      "text/plain": [
       "<Figure size 432x288 with 1 Axes>"
      ]
     },
     "metadata": {
      "needs_background": "light"
     },
     "output_type": "display_data"
    }
   ],
   "source": [
    "fig = plt.figure()\n",
    "plt.hist(test1, bins = 20);"
   ]
  },
  {
   "cell_type": "markdown",
   "id": "2ac7079c-002c-4519-b189-9309fbe5c09d",
   "metadata": {},
   "source": [
    "## Second task\n",
    "\n",
    "The task is the write a code that shuffles a deck of cards and make sure that the shuffled deck is indeed random. This should be also checked with some code."
   ]
  },
  {
   "cell_type": "code",
   "execution_count": 8,
   "id": "35878d0c-96c2-4450-8195-b34c3479e9c8",
   "metadata": {},
   "outputs": [],
   "source": [
    "def shuffle1(current_deck): #first method to shuffle the deck\n",
    "    n = len(current_deck) #get the size of the deck\n",
    "    new_order = np.random.choice(np.arange(n),size = n, replace = False) #&reate a new ordering for the elements in the deck\n",
    "    new_deck = np.zeros(n)\n",
    "    for i in range(n):\n",
    "        new_deck[new_order[i]] = current_deck[i]\n",
    "    return new_deck"
   ]
  },
  {
   "cell_type": "code",
   "execution_count": 9,
   "id": "2e8b0dc7-8def-470e-9e6c-4397eee2eb5d",
   "metadata": {},
   "outputs": [],
   "source": [
    "def shuffle2(current_deck): #second method to shuffle a deck. Idea got from geeks and geeks\n",
    "    n = len(current_deck) #get the size of the deck\n",
    "    new_deck = current_deck.copy() #create a copy of the original deck\n",
    "    \n",
    "    for i in range(n): #iterate through the deck\n",
    "        j = i + np.random.randint(n-i) #for every card indexed by i choose another random card with i<=j \n",
    "        temporary = new_deck[i] #exchange cards with index i and j\n",
    "        new_deck[i] = new_deck[j]\n",
    "        new_deck[j] = temporary\n",
    "        #it can be analytically proven that this method yields a uniform distribution for the cards\n",
    "    return new_deck"
   ]
  },
  {
   "cell_type": "code",
   "execution_count": 10,
   "id": "c7ac6383-20e8-4b0a-b2c9-080ae2166fb9",
   "metadata": {},
   "outputs": [],
   "source": [
    "def randomness_checker(current_deck, iter_num, method = 2):\n",
    "    n = len(current_deck)\n",
    "    randomness_matrix = np.array([np.zeros(n) for i in range(n)], dtype = float) #n*n numbers used to describe the prob. distribution\n",
    "                                                                                 #of the cards in the deck\n",
    "    for i in range(iter_num):\n",
    "        if method == 1: #using the shuffle1 function\n",
    "            new_deck = shuffle1(current_deck) #shuffle the deck with the first implemented method\n",
    "        elif method == 2:\n",
    "            new_deck = shuffle2(current_deck) #shuffle the dekc with the second implemented method\n",
    "        else:\n",
    "            print(\"Incorrect method type was given!\")\n",
    "            return\n",
    "        #update the elements of the randomness_matrix which describe the probability distribution of the cards in the deck\n",
    "        for k in range(n): #iterating through the cards themselves\n",
    "            randomness_matrix[k,np.where(new_deck==k)] += 1/iter_num \n",
    "    \n",
    "    return randomness_matrix"
   ]
  },
  {
   "cell_type": "code",
   "execution_count": 11,
   "id": "9381986e-2a0b-49ce-9aa1-0510f043af45",
   "metadata": {},
   "outputs": [],
   "source": [
    "n_test = 5\n",
    "test_deck = np.arange(n_test)"
   ]
  },
  {
   "cell_type": "code",
   "execution_count": 12,
   "id": "61ddff03-2a75-49e7-b688-d7de306e5130",
   "metadata": {},
   "outputs": [
    {
     "name": "stdout",
     "output_type": "stream",
     "text": [
      "[[0.19915  0.199975 0.2002   0.1991   0.201575]\n",
      " [0.2003   0.19895  0.203225 0.1968   0.200725]\n",
      " [0.2013   0.197925 0.1988   0.20235  0.199625]\n",
      " [0.202425 0.20055  0.1953   0.199875 0.20185 ]\n",
      " [0.196825 0.2026   0.202475 0.201875 0.196225]]\n"
     ]
    }
   ],
   "source": [
    "rm = randomness_checker(current_deck = test_deck, iter_num = 40000, method = 1)\n",
    "print(rm)"
   ]
  },
  {
   "cell_type": "markdown",
   "id": "411ddeda-1bb9-449e-9cf9-93fb6d003ece",
   "metadata": {},
   "source": [
    "### We found that both shuffling method gives uniform distribution of the cards"
   ]
  },
  {
   "cell_type": "markdown",
   "id": "5a656e22-8678-40ed-b61b-2abdcf50e1f8",
   "metadata": {},
   "source": [
    "## Third task"
   ]
  },
  {
   "cell_type": "code",
   "execution_count": null,
   "id": "79154502-debb-4b6a-b6a2-d2edfc7aa54b",
   "metadata": {},
   "outputs": [],
   "source": []
  }
 ],
 "metadata": {
  "kernelspec": {
   "display_name": "Python 3 (ipykernel)",
   "language": "python",
   "name": "python3"
  },
  "language_info": {
   "codemirror_mode": {
    "name": "ipython",
    "version": 3
   },
   "file_extension": ".py",
   "mimetype": "text/x-python",
   "name": "python",
   "nbconvert_exporter": "python",
   "pygments_lexer": "ipython3",
   "version": "3.8.12"
  }
 },
 "nbformat": 4,
 "nbformat_minor": 5
}
