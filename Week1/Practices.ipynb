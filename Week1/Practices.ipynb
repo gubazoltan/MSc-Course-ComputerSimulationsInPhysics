{
 "cells": [
  {
   "cell_type": "code",
   "execution_count": 1,
   "id": "3db7cd52",
   "metadata": {},
   "outputs": [],
   "source": [
    "import numpy as np\n",
    "import matplotlib.pyplot as plt"
   ]
  },
  {
   "cell_type": "markdown",
   "id": "1e883d93-39cb-4ed2-a69f-c9b4c71edf5e",
   "metadata": {},
   "source": [
    "## First task\n",
    "\n",
    "The task is to create a custom probability distribution using two (i) inverse cumulative distribution and (ii) Monte-Carlo methods.\n",
    "\n",
    "The custom probability distribution we create is \n",
    "\n",
    "\\begin{equation}\n",
    "P(X) = \\frac{3}{2} \\sqrt{1-X}\n",
    "\\end{equation}\n",
    "with $X\\in\\{0,1\\}$"
   ]
  },
  {
   "cell_type": "code",
   "execution_count": 2,
   "id": "60bacb17",
   "metadata": {},
   "outputs": [],
   "source": [
    "def P_x(): #probability distribution using the inverse cumulative distribution method\n",
    "    D = np.random.random() #random number with uniform distribution\n",
    "    return 1-(1-D)**(2/3) #express the random number X with the inverse of "
   ]
  },
  {
   "cell_type": "code",
   "execution_count": 3,
   "id": "cf2ef17f",
   "metadata": {},
   "outputs": [],
   "source": [
    "test1 = []\n",
    "sample_size = int(1e6)\n",
    "for i in range(sample_size):\n",
    "    test1.append(P_x())"
   ]
  },
  {
   "cell_type": "code",
   "execution_count": 4,
   "id": "7487bb28",
   "metadata": {},
   "outputs": [
    {
     "data": {
      "image/png": "[encoded data removed]",
      "text/plain": [
       "<Figure size 432x288 with 1 Axes>"
      ]
     },
     "metadata": {
      "needs_background": "light"
     },
     "output_type": "display_data"
    }
   ],
   "source": [
    "fig = plt.figure()\n",
    "plt.hist(test1, bins = 20);"
   ]
  },
  {
   "cell_type": "code",
   "execution_count": 5,
   "id": "c585c953",
   "metadata": {},
   "outputs": [],
   "source": [
    "def xypx(): #auxiliary function for the monte-carlo method\n",
    "    x = np.random.random() #create the random x coordinate\n",
    "    y = np.random.random()*(3/2) #create the random y coordinate\n",
    "    px= 3*np.sqrt(1-x)/2 #evaluate the probability density function we want to create\n",
    "    return x,y,px\n",
    "\n",
    "def P_x_MC(): #monte carlo method to create the probability density function\n",
    "    #method described by the lecture notes\n",
    "    x,y,px = xypx() \n",
    "    while px<y: \n",
    "        x,y,px = xypx()\n",
    "    return y"
   ]
  },
  {
   "cell_type": "code",
   "execution_count": 6,
   "id": "5c98adb9",
   "metadata": {},
   "outputs": [],
   "source": [
    "test2 = []\n",
    "sample_size = int(1e6)\n",
    "for i in range(sample_size):\n",
    "    test2.append(P_x_MC())"
   ]
  },
  {
   "cell_type": "code",
   "execution_count": 7,
   "id": "598c0967",
   "metadata": {},
   "outputs": [
    {
     "data": {
      "image/png": "[encoded data removed]",
      "text/plain": [
       "<Figure size 432x288 with 1 Axes>"
      ]
     },
     "metadata": {
      "needs_background": "light"
     },
     "output_type": "display_data"
    }
   ],
   "source": [
    "fig = plt.figure()\n",
    "plt.hist(test1, bins = 20);"
   ]
  },
  {
   "cell_type": "markdown",
   "id": "2ac7079c-002c-4519-b189-9309fbe5c09d",
   "metadata": {},
   "source": [
    "## Second task\n",
    "\n",
    "The task is the write a code that shuffles a deck of cards and make sure that the shuffled deck is indeed random. This should be also checked with some code."
   ]
  },
  {
   "cell_type": "code",
   "execution_count": 8,
   "id": "35878d0c-96c2-4450-8195-b34c3479e9c8",
   "metadata": {},
   "outputs": [],
   "source": [
    "def shuffle1(current_deck): #first method to shuffle the deck\n",
    "    n = len(current_deck) #get the size of the deck\n",
    "    new_order = np.random.choice(np.arange(n),size = n, replace = False) #&reate a new ordering for the elements in the deck\n",
    "    new_deck = np.zeros(n).astype(int)\n",
    "    for i in range(n):\n",
    "        new_deck[new_order[i]] = current_deck[i]\n",
    "    return new_deck"
   ]
  },
  {
   "cell_type": "code",
   "execution_count": 9,
   "id": "2e8b0dc7-8def-470e-9e6c-4397eee2eb5d",
   "metadata": {},
   "outputs": [],
   "source": [
    "def shuffle2(current_deck): #second method to shuffle a deck. Idea got from geeks and geeks\n",
    "    n = len(current_deck) #get the size of the deck\n",
    "    new_deck = current_deck.copy() #create a copy of the original deck\n",
    "    \n",
    "    for i in range(n): #iterate through the deck\n",
    "        j = i + np.random.randint(n-i) #for every card indexed by i choose another random card with i<=j \n",
    "        temporary = new_deck[i] #exchange cards with index i and j\n",
    "        new_deck[i] = new_deck[j]\n",
    "        new_deck[j] = temporary\n",
    "        #it can be analytically proven that this method yields a uniform distribution for the cards\n",
    "    return new_deck"
   ]
  },
  {
   "cell_type": "code",
   "execution_count": 23,
   "id": "c7ac6383-20e8-4b0a-b2c9-080ae2166fb9",
   "metadata": {},
   "outputs": [],
   "source": [
    "def randomness_checker(current_deck, iter_num, method = 2):\n",
    "    n = len(current_deck)\n",
    "    randomness_matrix = np.array([np.zeros(n) for i in range(n)], dtype = float) #n*n numbers used to describe the prob. distribution\n",
    "                                                                                 #of the cards in the deck\n",
    "    for i in range(iter_num):\n",
    "        if method == 1: #using the shuffle1 function\n",
    "            new_deck = shuffle1(current_deck) #shuffle the deck with the first implemented method\n",
    "        elif method == 2:\n",
    "            new_deck = shuffle2(current_deck) #shuffle the dekc with the second implemented method\n",
    "        else:\n",
    "            print(\"Incorrect method type was given!\")\n",
    "            return\n",
    "        #update the elements of the randomness_matrix which describe the probability distribution of the cards in the deck\n",
    "        \n",
    "        randomness_matrix[new_deck,np.arange(n)] += 1/iter_num\n",
    "    #in the randomness_matrix every corresponds to a card and every column coresponds to a position in the deck\n",
    "    #we have a uniform distribution of cards whenever we see that all values in all entries equal meaning that every card has equal probability being \n",
    "    #at every position in the deck\n",
    "    return randomness_matrix"
   ]
  },
  {
   "cell_type": "code",
   "execution_count": 24,
   "id": "9381986e-2a0b-49ce-9aa1-0510f043af45",
   "metadata": {},
   "outputs": [],
   "source": [
    "n_test = 5 \n",
    "test_deck = np.arange(n_test) #this is a test deck that we use because it is easier to debug with it"
   ]
  },
  {
   "cell_type": "code",
   "execution_count": 27,
   "id": "61ddff03-2a75-49e7-b688-d7de306e5130",
   "metadata": {},
   "outputs": [
    {
     "name": "stdout",
     "output_type": "stream",
     "text": [
      "[[0.200862 0.199144 0.200226 0.200268 0.1995  ]\n",
      " [0.199306 0.199092 0.199368 0.201438 0.200796]\n",
      " [0.200606 0.201382 0.19984  0.199098 0.199074]\n",
      " [0.20006  0.199514 0.20019  0.20015  0.200086]\n",
      " [0.199166 0.200868 0.200376 0.199046 0.200544]]\n"
     ]
    }
   ],
   "source": [
    "rm = randomness_checker(current_deck = test_deck, iter_num = 500000, method = 2)\n",
    "print(rm)"
   ]
  },
  {
   "cell_type": "markdown",
   "id": "411ddeda-1bb9-449e-9cf9-93fb6d003ece",
   "metadata": {},
   "source": [
    "### We found that both shuffling method gives uniform distribution of the cards"
   ]
  },
  {
   "cell_type": "markdown",
   "id": "5a656e22-8678-40ed-b61b-2abdcf50e1f8",
   "metadata": {},
   "source": [
    "## Third task\n",
    "\n",
    "The task is to generate a list of random number and then pick one of them with a weight proportional to its value"
   ]
  },
  {
   "cell_type": "code",
   "execution_count": 13,
   "id": "f345b5e1-7c32-4cfa-9a62-8aa6a4b4746c",
   "metadata": {},
   "outputs": [],
   "source": [
    "def func1(random_list_size, test_list = None): #first method to carry out the task\n",
    "    if test_list.all() == None: #with this one can test whether the prob distribution is indeed the one we need\n",
    "        random_list = np.random.random(n = random_list_size)\n",
    "    else:\n",
    "        random_list = test_list\n",
    "        #in this method we use a built in function of numpy to generate the distribution\n",
    "    random_element = (np.random.choice(a = random_list, size = 1, p = random_list/np.sum(random_list)))[0]\n",
    "    \n",
    "    return random_list, random_element"
   ]
  },
  {
   "cell_type": "code",
   "execution_count": 14,
   "id": "4dba2095-07e7-4e74-a86a-3d9c6912b91b",
   "metadata": {},
   "outputs": [],
   "source": [
    "def func2(random_list_size, test_list = None): #second method to carry out the task\n",
    "    if test_list.all() == None: #same as before\n",
    "        random_list = np.random.random(n = random_list_size)\n",
    "    else:\n",
    "        random_list = test_list\n",
    "    \n",
    "    #now use the method that was suggested by the lecturer\n",
    "    r = np.sum(random_list)*np.random.random(size=1) #generate random number between 0 and sum\n",
    "    i = -1 #start the index with -1\n",
    "    while r>=0: #if r is positive\n",
    "        i += 1\n",
    "        r -= random_list[i] #substract the next number then check again for positivity\n",
    "        \n",
    "    return random_list,random_list[i]"
   ]
  },
  {
   "cell_type": "code",
   "execution_count": 28,
   "id": "f42a26e8-7c6c-411c-b86c-ed9d0d67e222",
   "metadata": {},
   "outputs": [],
   "source": [
    "def iterations(sample_size, random_list_size, test_list = None,method = 2): #go through random iterations for a given randomly chosen list to \n",
    "                                                                            #see whether the distributions are indeed correct\n",
    "    if method == 1:\n",
    "        datas = np.array([func1(random_list_size,test_list)[1] for i in range(sample_size)]) #fill datas with the randomly choosen numbers using method1\n",
    "    elif method == 2:\n",
    "        datas = np.array([func2(random_list_size,test_list)[1] for i in range(sample_size)]) #same but with method2\n",
    "    return datas"
   ]
  },
  {
   "cell_type": "code",
   "execution_count": 41,
   "id": "dfac6bed-ce10-4f98-903a-cf03ddb0b32e",
   "metadata": {},
   "outputs": [],
   "source": [
    "test_list = np.arange(11)\n",
    "random_list_size = len(test_list)\n",
    "sample_size = 55000\n",
    "d1 = iterations(sample_size = sample_size, random_list_size = random_list_size, test_list = test_list,method = 1)"
   ]
  },
  {
   "cell_type": "code",
   "execution_count": 42,
   "id": "15dbb2e4-f6bd-4636-ab81-8cff9daf3662",
   "metadata": {},
   "outputs": [
    {
     "data": {
      "image/png": "[encoded data removed]",
      "text/plain": [
       "<Figure size 432x288 with 1 Axes>"
      ]
     },
     "metadata": {
      "needs_background": "light"
     },
     "output_type": "display_data"
    }
   ],
   "source": [
    "plt.hist(d1,bins = np.arange(random_list_size+1)-0.5);"
   ]
  },
  {
   "cell_type": "code",
   "execution_count": 43,
   "id": "767a8629-fae7-4f46-a77d-007860fe5dc3",
   "metadata": {},
   "outputs": [],
   "source": [
    "test_list = np.arange(11)\n",
    "random_list_size = len(test_list)\n",
    "sample_size = 55000\n",
    "d2 = iterations(sample_size = sample_size, random_list_size = random_list_size, test_list = test_list,method = 2)"
   ]
  },
  {
   "cell_type": "code",
   "execution_count": 44,
   "id": "8a50ca7e-596e-449d-a53e-d52142b5ded9",
   "metadata": {},
   "outputs": [
    {
     "data": {
      "image/png": "[encoded data removed]",
      "text/plain": [
       "<Figure size 432x288 with 1 Axes>"
      ]
     },
     "metadata": {
      "needs_background": "light"
     },
     "output_type": "display_data"
    }
   ],
   "source": [
    "plt.hist(d2,bins = np.arange(random_list_size+1)-0.5);"
   ]
  },
  {
   "cell_type": "code",
   "execution_count": 45,
   "id": "fa66bdbb-6560-4aa6-bbfb-165a52825282",
   "metadata": {},
   "outputs": [],
   "source": [
    "import time"
   ]
  },
  {
   "cell_type": "code",
   "execution_count": 46,
   "id": "cd807a78-bf79-4b7d-bd31-7720fee78fa1",
   "metadata": {},
   "outputs": [
    {
     "name": "stdout",
     "output_type": "stream",
     "text": [
      "26.5 µs ± 378 ns per loop (mean ± std. dev. of 7 runs, 10000 loops each)\n"
     ]
    }
   ],
   "source": [
    "%%timeit \n",
    "func1(random_list_size,test_list)"
   ]
  },
  {
   "cell_type": "code",
   "execution_count": 47,
   "id": "9aa99315-96eb-451f-aa34-302c4830977e",
   "metadata": {},
   "outputs": [
    {
     "name": "stdout",
     "output_type": "stream",
     "text": [
      "32.4 µs ± 602 ns per loop (mean ± std. dev. of 7 runs, 10000 loops each)\n"
     ]
    }
   ],
   "source": [
    "%%timeit \n",
    "func2(random_list_size,test_list)"
   ]
  },
  {
   "cell_type": "markdown",
   "id": "5b287f0b-192b-46e8-975d-e909bb0001b2",
   "metadata": {},
   "source": [
    "### The first realization seems to be faster"
   ]
  }
 ],
 "metadata": {
  "kernelspec": {
   "display_name": "Python 3 (ipykernel)",
   "language": "python",
   "name": "python3"
  },
  "language_info": {
   "codemirror_mode": {
    "name": "ipython",
    "version": 3
   },
   "file_extension": ".py",
   "mimetype": "text/x-python",
   "name": "python",
   "nbconvert_exporter": "python",
   "pygments_lexer": "ipython3",
   "version": "3.8.12"
  }
 },
 "nbformat": 4,
 "nbformat_minor": 5
}
