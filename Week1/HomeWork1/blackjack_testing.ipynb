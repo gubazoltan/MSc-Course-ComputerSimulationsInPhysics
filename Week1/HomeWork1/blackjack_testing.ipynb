{
 "cells": [
  {
   "cell_type": "code",
   "execution_count": 1,
   "id": "817ded8c-fe44-44dd-aef3-8fad24d65182",
   "metadata": {},
   "outputs": [],
   "source": [
    "import numpy as np\n",
    "import blackjack as bj"
   ]
  },
  {
   "cell_type": "code",
   "execution_count": 4,
   "id": "7e031641-9aea-4fc3-8ebf-8e7bf883fbc9",
   "metadata": {},
   "outputs": [
    {
     "name": "stdout",
     "output_type": "stream",
     "text": [
      "This is a Deck\n",
      "\tdeck:  [10  9 10  9  5  3  9  7  6 11 10 10  6  5  2  6  2  5 11  5  5  7  3  5\n",
      "  7  6 10 10 10  8 10  2  4  6  9  9  6 10  8  7 11  8  5  8  8  4 11 11\n",
      " 10  3 10  8 10 10 10  8  4  3  9 10  9  4 10  2 10 10  2 10  2 10 11  7\n",
      "  6 10 10 11 10  7  7  3 10 10  2 11  3 10  4 10  4  7  4 10  6  8  5  2\n",
      "  9 10  3  4 10 10 10  3]\n",
      "\tcards drawn:  0\n",
      "\tnumber of packs : 2\n",
      "\tnumber of cards : 104\n"
     ]
    }
   ],
   "source": [
    "global_deck = bj.Deck(number_of_packs=2)\n",
    "\n",
    "global_deck.print_deck()"
   ]
  },
  {
   "cell_type": "markdown",
   "id": "37568adb-d1a3-4b0b-a4a7-58564fe003cd",
   "metadata": {},
   "source": [
    "### Test of the strategies\n",
    "Remark: Note that the strategy I am trying to copy is from this [link](https://www.blackjackapprenticeship.com/blackjack-strategy-charts/), with strategy5 being very similar (and because of that, also complicated) to the optimal strategy defined here.\n",
    "\n",
    "Of course it is hard to do if I don't separate soft and hard hands. I think that doing so would be a trivial extension of the current code and I have no available resource to\n",
    "implement that functionality. \n",
    "\n",
    "### Test: in the next 5 cells I evaluated 10000 game where the player mimics a given strategy and collected the net income which is printed"
   ]
  },
  {
   "cell_type": "code",
   "execution_count": 10,
   "id": "5bd3eb9d-9857-4602-9fe2-bcff0adae0cc",
   "metadata": {},
   "outputs": [
    {
     "name": "stdout",
     "output_type": "stream",
     "text": [
      "-1.6695\n"
     ]
    }
   ],
   "source": [
    "strategy = bj.strategy1\n",
    "iterations = 10000\n",
    "total_income, income_list = bj.incomestatistics(global_DECK = global_deck, iterations = iterations, strategy = strategy)\n",
    "print(total_income)"
   ]
  },
  {
   "cell_type": "code",
   "execution_count": 11,
   "id": "00f4d55c-7463-4b3d-adc1-af29c5c72827",
   "metadata": {},
   "outputs": [
    {
     "name": "stdout",
     "output_type": "stream",
     "text": [
      "-1.811\n"
     ]
    }
   ],
   "source": [
    "strategy = bj.strategy2\n",
    "iterations = 10000\n",
    "total_income, income_list = bj.incomestatistics(global_DECK = global_deck, iterations = iterations, strategy = strategy)\n",
    "print(total_income)"
   ]
  },
  {
   "cell_type": "code",
   "execution_count": 13,
   "id": "5851eee7-5350-44e0-81f9-e42bffbd1116",
   "metadata": {},
   "outputs": [
    {
     "name": "stdout",
     "output_type": "stream",
     "text": [
      "-1.6715\n"
     ]
    }
   ],
   "source": [
    "strategy = bj.strategy3\n",
    "iterations = 10000\n",
    "total_income, income_list = bj.incomestatistics(global_DECK = global_deck, iterations = iterations, strategy = strategy)\n",
    "print(total_income)"
   ]
  },
  {
   "cell_type": "code",
   "execution_count": 14,
   "id": "624ba1e6-a482-44c7-967c-6225c5e3737a",
   "metadata": {},
   "outputs": [
    {
     "name": "stdout",
     "output_type": "stream",
     "text": [
      "-1.367\n"
     ]
    }
   ],
   "source": [
    "strategy = bj.strategy4\n",
    "iterations = 10000\n",
    "total_income, income_list = bj.incomestatistics(global_DECK = global_deck, iterations = iterations, strategy = strategy)\n",
    "print(total_income)"
   ]
  },
  {
   "cell_type": "code",
   "execution_count": 15,
   "id": "3e3ab70d-fe85-43d3-bfef-a2bc1917d488",
   "metadata": {},
   "outputs": [
    {
     "name": "stdout",
     "output_type": "stream",
     "text": [
      "-0.1845\n"
     ]
    }
   ],
   "source": [
    "strategy = bj.strategy5\n",
    "iterations = 10000\n",
    "total_income, income_list = bj.incomestatistics(global_DECK = global_deck, iterations = iterations, strategy = strategy)\n",
    "print(total_income)"
   ]
  },
  {
   "cell_type": "markdown",
   "id": "7d52c26f-8009-4ff5-bab0-469f138d3de9",
   "metadata": {},
   "source": [
    "It is clear that the last strategy which mimics a simple version of the optimal strategy yields the highest income among the others."
   ]
  }
 ],
 "metadata": {
  "kernelspec": {
   "display_name": "Python 3 (ipykernel)",
   "language": "python",
   "name": "python3"
  },
  "language_info": {
   "codemirror_mode": {
    "name": "ipython",
    "version": 3
   },
   "file_extension": ".py",
   "mimetype": "text/x-python",
   "name": "python",
   "nbconvert_exporter": "python",
   "pygments_lexer": "ipython3",
   "version": "3.8.12"
  }
 },
 "nbformat": 4,
 "nbformat_minor": 5
}
