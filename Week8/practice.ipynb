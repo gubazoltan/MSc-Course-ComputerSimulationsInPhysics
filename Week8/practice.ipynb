{
 "cells": [
  {
   "cell_type": "code",
   "execution_count": 22,
   "id": "b8f886b1-07db-4b3a-841f-d5f22df079c4",
   "metadata": {},
   "outputs": [],
   "source": [
    "import numpy as np\n",
    "import matplotlib.pyplot as plt"
   ]
  },
  {
   "cell_type": "code",
   "execution_count": 23,
   "id": "dcc2ffbb-352b-44e9-9b74-adafd31cd123",
   "metadata": {},
   "outputs": [],
   "source": [
    "def printsvg(x,y,gene,N,outfile):\n",
    "    f = open(outfile,\"w\");\n",
    "    f.write(\"<?xml version=\\\"1.0\\\" standalone=\\\"no\\\"?>\\n\")\n",
    "    f.write(\"<!DOCTYPE svg PUBLIC \\\"-//W3C//DTD SVG 1.1//EN\\\"\\n\")\n",
    "    f.write(\"\\\"http://www.w3.org/Graphics/SVG/1.1/DTD/svg11.dtd\\\">\\n\")\n",
    "    f.write(\"<svg    xmlns=\\\"http://www.w3.org/2000/svg\\\"\\n\")\n",
    "    f.write(\"        xmlns:xlink=\\\"http://www.w3.org/1999/xlink\\\"\\n\")\n",
    "    f.write(\"        width=\\\"2.2in\\\" height=\\\"1.6in\\\"\\n\")\n",
    "    f.write(\"        viewBox=\\\"-10 -10 1010 1010\\\">\\n\")\n",
    "    for a in range(N):\n",
    "        f.write(\"<circle cx=\\\"%d\\\" cy=\\\"%d\\\" r=\\\"25\\\"\\n\" % \\\n",
    "            (int(1000*x[a]),int(1000*y[a])))\n",
    "        f.write(\" style=\\\"\")\n",
    "        if gene[a] == 1:\n",
    "            f.write(\"fill:#ff0000;\")\n",
    "        else:\n",
    "            f.write(\"fill:#00ff00;\")\n",
    "        f.write(\"stroke:#000000;stroke-width:8;\\\"/>\\n\")\n",
    "        x0 = 0.0\n",
    "        y0 = 0.0\n",
    "        if gene[a] == 0:\n",
    "            dmin = 1e100\n",
    "            for b in range(N):\n",
    "                if gene[b] == 1:\n",
    "          #it is connected to a hub\n",
    "                    d = (x[a] - x[b])*(x[a] - x[b]) + (y[a] - y[b])*(y[a] - y[b])\n",
    "                    if d < dmin:\n",
    "                        dmin = d\n",
    "                        x0 = x[b]\n",
    "                        y0 = y[b]\n",
    "        f.write(\"<polyline points=\\\"%d,%d \" %\n",
    "            (int(1000*x[a]),int(1000*y[a])))\n",
    "        f.write(\"%d,%d\\n\" % (int(1000*x0),int(1000*y0)))\n",
    "        f.write(\"\\\" style=\\\"stroke:#000000;stroke-width:8;\\n\")\n",
    "        f.write(\"stroke-linejoin:miter stroke-linecap:butt;\\\"/>\\n\")\n",
    "    f.write(\"</svg>\\n\")\n",
    "    f.close()"
   ]
  },
  {
   "cell_type": "code",
   "execution_count": 57,
   "id": "45070c1a-d41d-4c0b-b049-3ffe28f38eee",
   "metadata": {},
   "outputs": [],
   "source": [
    "# smaller the better\n",
    "def fitness(x,y,gene,N):\n",
    "    f = 0.0\n",
    "    for a in range(N):\n",
    "    # First if it is connected to the center at (0,0)\n",
    "        if gene[a] == 1:\n",
    "            f += x[a]*x[a] + y[a]*y[a]\n",
    "        else:\n",
    "            dmin = 1e100\n",
    "            for b in range(N):\n",
    "                if gene[b] == 1:\n",
    "          # it is connected to a hub\n",
    "                    d = (x[a] - x[b])*(x[a] - x[b]) + (y[a] - y[b])*(y[a] - y[b])\n",
    "                    if d < dmin:\n",
    "                        dmin = d\n",
    "      # if there are no hubs but we want to connect to them we get 1e100\n",
    "      # as fitness which is bad so it's good :-)\n",
    "            f += dmin\n",
    "    return(f)"
   ]
  },
  {
   "cell_type": "code",
   "execution_count": 58,
   "id": "0029239e-6f71-4b29-8f91-9cf0da136bb9",
   "metadata": {},
   "outputs": [
    {
     "name": "stdout",
     "output_type": "stream",
     "text": [
      "2.93459965089899\n"
     ]
    }
   ],
   "source": [
    "N = 10\n",
    "x = np.random.random(10)\n",
    "y = np.random.random(10)\n",
    "gene = np.random.randint(2,size=N)\n",
    "printsvg(x,y,gene,N,\"a.svg\")\n",
    "print(fitness(x,y,gene,N))"
   ]
  },
  {
   "cell_type": "code",
   "execution_count": 59,
   "id": "23dca6de-5c0a-4d9b-8c13-d408b81116bd",
   "metadata": {},
   "outputs": [],
   "source": [
    "def alfit(allomany, M, N, x, y):\n",
    "    fitvals = np.zeros(M)\n",
    "    for i in range(M):\n",
    "        fitvals[i]=(fitness(x = x, y = y, gene = allomany[i], N = N))\n",
    "    return fitvals"
   ]
  },
  {
   "cell_type": "code",
   "execution_count": 60,
   "id": "427bf75c-d97b-4d68-ac53-c054a0958e19",
   "metadata": {},
   "outputs": [],
   "source": [
    "def func(N=10, M=20 , itnum = 100 ,filename=\"test\"):\n",
    "    fitvallist = np.zeros(itnum+1)\n",
    "    x = np.random.random(N)\n",
    "    y = np.random.random(N)\n",
    "    gene = np.random.randint(2,size=N)\n",
    "    printsvg(x = x, y = y, gene = gene, N = N, outfile = filename+\".svg\")\n",
    "    print(fitness(x = x, y = y, gene = gene, N = N))\n",
    "    \n",
    "    allomany = np.random.randint(2,size=N*M).reshape((M,N))\n",
    "    \n",
    "    for i in range(itnum):\n",
    "        fitvals = alfit(allomany = allomany, M = M, N = N, x = x, y = y)\n",
    "        fitvallist[i] = sum(fitvals)\n",
    "        index = np.argsort(fitvals)\n",
    "        for j in range(int(M/2)):\n",
    "            p1index, p2index = np.random.choice(a = index[:int(M/2)], size = 2,replace = False)\n",
    "            p1, p2 = allomany[p1index], allomany[p2index]\n",
    "            crossover = np.random.choice(a = [True,False], size = N, replace = True)\n",
    "            #TO DO: nicer solution!\n",
    "\n",
    "            children = np.zeros(N)\n",
    "            for idx, boolean in enumerate(crossover):\n",
    "                if boolean:\n",
    "                    children[idx] = p1[idx]\n",
    "                else:\n",
    "                    children[idx] = p2[idx]\n",
    "\n",
    "            allomany[int(M/2)+j] = children\n",
    "    fitvals = alfit(allomany = allomany, M = M, N = N, x = x, y = y)\n",
    "    fitvallist[-1] = sum(fitvals)\n",
    "    \n",
    "    printsvg(x,y,allomany[np.argsort(fitvals)][0],N,filename+\"2.svg\")\n",
    "    return fitvallist, allomany[np.argsort(fitvals)][0]"
   ]
  },
  {
   "cell_type": "code",
   "execution_count": 63,
   "id": "a9e18466-e4d0-458d-b0c6-bf7a9a660299",
   "metadata": {},
   "outputs": [
    {
     "name": "stdout",
     "output_type": "stream",
     "text": [
      "17.905361224019583\n"
     ]
    }
   ],
   "source": [
    "a, b = func(N = 40, M = 20,itnum = 1000)"
   ]
  },
  {
   "cell_type": "code",
   "execution_count": 62,
   "id": "a9c122b1-7aa4-4624-a0e8-4f989d22d694",
   "metadata": {},
   "outputs": [
    {
     "data": {
      "text/plain": [
       "[<matplotlib.lines.Line2D at 0x7fa0860167f0>]"
      ]
     },
     "execution_count": 62,
     "metadata": {},
     "output_type": "execute_result"
    },
    {
     "data": {
      "image/png": "[encoded data removed]",
      "text/plain": [
       "<Figure size 432x288 with 1 Axes>"
      ]
     },
     "metadata": {
      "needs_background": "light"
     },
     "output_type": "display_data"
    }
   ],
   "source": [
    "fig = plt.figure()\n",
    "\n",
    "plt.plot(a[:-1])"
   ]
  },
  {
   "cell_type": "code",
   "execution_count": 37,
   "id": "044218c4-f911-478c-8cfa-7cbdcc4c00bf",
   "metadata": {},
   "outputs": [
    {
     "data": {
      "text/plain": [
       "array([0, 0, 1, 1, 0, 1, 0, 0, 0, 0])"
      ]
     },
     "execution_count": 37,
     "metadata": {},
     "output_type": "execute_result"
    }
   ],
   "source": [
    "b"
   ]
  },
  {
   "cell_type": "code",
   "execution_count": null,
   "id": "acdf7525-117c-4de7-91c9-3407b111a5b0",
   "metadata": {},
   "outputs": [],
   "source": []
  }
 ],
 "metadata": {
  "kernelspec": {
   "display_name": "Python 3 (ipykernel)",
   "language": "python",
   "name": "python3"
  },
  "language_info": {
   "codemirror_mode": {
    "name": "ipython",
    "version": 3
   },
   "file_extension": ".py",
   "mimetype": "text/x-python",
   "name": "python",
   "nbconvert_exporter": "python",
   "pygments_lexer": "ipython3",
   "version": "3.8.12"
  }
 },
 "nbformat": 4,
 "nbformat_minor": 5
}
