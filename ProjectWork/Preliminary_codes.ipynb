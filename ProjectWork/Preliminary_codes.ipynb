{
 "cells": [
  {
   "cell_type": "code",
   "execution_count": 7,
   "id": "f11273f8-1585-4703-83e2-6bf1fe7aa391",
   "metadata": {},
   "outputs": [],
   "source": [
    "import numpy as np\n",
    "import scipy.linalg as scl\n",
    "import time"
   ]
  },
  {
   "cell_type": "code",
   "execution_count": 8,
   "id": "ec0aa7db-831d-42e6-81ad-b6477af79eb5",
   "metadata": {},
   "outputs": [],
   "source": [
    "def matrix_exponentialization(n,a):\n",
    "    \"\"\"\n",
    "    Function that we use to carry out matrix exponentializaton. This method is usually two times faster than the usual scipy.linalg.expm matrix\n",
    "    exponentialization method. \n",
    "    It is not a goal of ours to understand precisely how this works.\n",
    "    \"\"\"\n",
    "    q = 6\n",
    "    a_norm = np.linalg.norm ( a, np.Inf )\n",
    "    ee = ( int ) ( np.log2 ( a_norm ) ) + 1\n",
    "    s = max ( 0, ee + 1 )\n",
    "    a = a / ( 2.0 ** s )\n",
    "    x = a.copy ( )\n",
    "    c = 0.5\n",
    "    e = np.eye ( n, dtype = np.complex64 ) + c * a\n",
    "    d = np.eye ( n, dtype = np.complex64 ) - c * a\n",
    "    p = True\n",
    "\n",
    "    for k in range ( 2, q + 1 ):\n",
    "        c = c * float ( q - k + 1 ) / float ( k * ( 2 * q - k + 1 ) )\n",
    "        x = np.dot ( a, x )\n",
    "        e = e + c * x\n",
    "        if ( p ):\n",
    "            d = d + c * x\n",
    "        else:\n",
    "            d = d - c * x\n",
    "        p = not p\n",
    "\n",
    "    e = np.linalg.solve ( d, e )\n",
    "    e = np.ascontiguousarray(e)\n",
    "\n",
    "    for k in range ( 0, s ):\n",
    "        e = np.dot ( e, e )\n",
    "        \n",
    "    #return the exponentialized matrix\n",
    "    return e"
   ]
  },
  {
   "cell_type": "code",
   "execution_count": 4,
   "id": "b0d8d238-f185-47f6-a0a7-15fb1c870eec",
   "metadata": {},
   "outputs": [],
   "source": [
    "n = 4\n",
    "a = np.array([[0,1,0,0],\n",
    "             [1,0,0,0],\n",
    "             [0,0,0,0],\n",
    "             [0,0,0,0]])"
   ]
  },
  {
   "cell_type": "code",
   "execution_count": 5,
   "id": "d0ec6533-b5a9-42b5-9d17-982a1e25f613",
   "metadata": {},
   "outputs": [
    {
     "name": "stdout",
     "output_type": "stream",
     "text": [
      "55.5 µs ± 1.62 µs per loop (mean ± std. dev. of 7 runs, 10,000 loops each)\n"
     ]
    }
   ],
   "source": [
    "%%timeit \n",
    "matrix_exponentialization(n,a)"
   ]
  },
  {
   "cell_type": "code",
   "execution_count": 6,
   "id": "c0e9f685-8f3e-4c56-8bea-7e9a2d4b4ce5",
   "metadata": {},
   "outputs": [
    {
     "name": "stdout",
     "output_type": "stream",
     "text": [
      "126 µs ± 8.46 µs per loop (mean ± std. dev. of 7 runs, 10,000 loops each)\n"
     ]
    }
   ],
   "source": [
    "%%timeit\n",
    "scl.expm(a)"
   ]
  },
  {
   "cell_type": "code",
   "execution_count": 9,
   "id": "8f1701ba-1882-4c15-8589-89c2aec66753",
   "metadata": {},
   "outputs": [
    {
     "data": {
      "text/plain": [
       "array([[1.54308063+0.j, 1.17520119+0.j, 0.        +0.j, 0.        +0.j],\n",
       "       [1.17520119+0.j, 1.54308063+0.j, 0.        +0.j, 0.        +0.j],\n",
       "       [0.        +0.j, 0.        +0.j, 1.        +0.j, 0.        +0.j],\n",
       "       [0.        +0.j, 0.        +0.j, 0.        +0.j, 1.        +0.j]])"
      ]
     },
     "execution_count": 9,
     "metadata": {},
     "output_type": "execute_result"
    }
   ],
   "source": [
    "matrix_exponentialization(n,a)"
   ]
  }
 ],
 "metadata": {
  "kernelspec": {
   "display_name": "Python 3 (ipykernel)",
   "language": "python",
   "name": "python3"
  },
  "language_info": {
   "codemirror_mode": {
    "name": "ipython",
    "version": 3
   },
   "file_extension": ".py",
   "mimetype": "text/x-python",
   "name": "python",
   "nbconvert_exporter": "python",
   "pygments_lexer": "ipython3",
   "version": "3.8.12"
  }
 },
 "nbformat": 4,
 "nbformat_minor": 5
}
