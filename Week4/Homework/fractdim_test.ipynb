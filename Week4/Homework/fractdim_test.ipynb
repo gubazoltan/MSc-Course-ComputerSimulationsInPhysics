{
 "cells": [
  {
   "cell_type": "code",
   "execution_count": 1,
   "id": "aaac15a0-669f-4614-80c0-1b1a519f8a07",
   "metadata": {},
   "outputs": [],
   "source": [
    "import fractdim as fd\n",
    "import matplotlib.pyplot as plt "
   ]
  },
  {
   "cell_type": "markdown",
   "id": "66f75290-6e3a-4102-b9f6-d80fe96a40df",
   "metadata": {},
   "source": [
    "### Tests to calculate the fractal dimension\n",
    "\n",
    "We calculate the fractal dimension using the Minkowski–Bouligand dimension."
   ]
  },
  {
   "cell_type": "markdown",
   "id": "de22ced4-8cf2-4a84-bcca-4da3d6d1d607",
   "metadata": {},
   "source": [
    "#### First calculate the fractal dimension for the Bransley fern fractal."
   ]
  },
  {
   "cell_type": "code",
   "execution_count": 2,
   "id": "0b0ffcb6-dbd4-4eef-aa46-4eb693f70252",
   "metadata": {},
   "outputs": [],
   "source": [
    "dim,blengths,bnums = fd.fract_dim(filename = \"fractalFern_1600\")"
   ]
  },
  {
   "cell_type": "code",
   "execution_count": 3,
   "id": "6f1bd713-3f63-49f9-a5be-14363f4396db",
   "metadata": {},
   "outputs": [
    {
     "data": {
      "text/plain": [
       "1.8553055741785651"
      ]
     },
     "execution_count": 3,
     "metadata": {},
     "output_type": "execute_result"
    }
   ],
   "source": [
    "dim"
   ]
  },
  {
   "cell_type": "markdown",
   "id": "1b4e7d2b-e845-4b30-8294-4c7acced0c44",
   "metadata": {},
   "source": [
    "The expected dimension should be about 1.45, which is not correctly obtained by the code."
   ]
  },
  {
   "cell_type": "markdown",
   "id": "edfee253-9fab-4db7-b353-b5367c215408",
   "metadata": {},
   "source": [
    "#### Next we calculate the fractal dimension for the Sierpinski fractal"
   ]
  },
  {
   "cell_type": "code",
   "execution_count": 4,
   "id": "54392ce2-a2e8-4796-9b27-d885961b0a5a",
   "metadata": {},
   "outputs": [],
   "source": [
    "dim,blengths,bnums = fd.fract_dim(filename = \"sierpinski_1600\")"
   ]
  },
  {
   "cell_type": "code",
   "execution_count": 5,
   "id": "d07d2eeb-59cd-4443-9ca1-c03bdc86b95f",
   "metadata": {},
   "outputs": [
    {
     "data": {
      "text/plain": [
       "1.52728579121008"
      ]
     },
     "execution_count": 5,
     "metadata": {},
     "output_type": "execute_result"
    }
   ],
   "source": [
    "dim"
   ]
  },
  {
   "cell_type": "markdown",
   "id": "613ac838-5a6b-4adc-96e8-f4e4dfe2c3f7",
   "metadata": {},
   "source": [
    "This obtained dimension is quite close to the expected 1.585."
   ]
  },
  {
   "cell_type": "code",
   "execution_count": null,
   "id": "36f54b76-6cb8-40da-a888-f319bc3e013f",
   "metadata": {},
   "outputs": [],
   "source": []
  }
 ],
 "metadata": {
  "kernelspec": {
   "display_name": "Python 3 (ipykernel)",
   "language": "python",
   "name": "python3"
  },
  "language_info": {
   "codemirror_mode": {
    "name": "ipython",
    "version": 3
   },
   "file_extension": ".py",
   "mimetype": "text/x-python",
   "name": "python",
   "nbconvert_exporter": "python",
   "pygments_lexer": "ipython3",
   "version": "3.8.12"
  }
 },
 "nbformat": 4,
 "nbformat_minor": 5
}
