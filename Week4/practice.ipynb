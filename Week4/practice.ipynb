{
 "cells": [
  {
   "cell_type": "code",
   "execution_count": 1,
   "metadata": {
    "id": "YGui2nTna3Ec"
   },
   "outputs": [],
   "source": [
    "import numpy as np\n",
    "import matplotlib.pyplot as plt\n",
    "import warnings"
   ]
  },
  {
   "cell_type": "code",
   "execution_count": 2,
   "metadata": {},
   "outputs": [],
   "source": [
    "def root(links,x):\n",
    "    #find the roots of a label in the links\n",
    "    while (links[x] != x):\n",
    "        x = links[x]\n",
    "    return x\n",
    "\n",
    "def union(links,x,y):\n",
    "    #unite two colliding clusters with different labels attached to them\n",
    "    links[root(links,x)] = root(links,y)"
   ]
  },
  {
   "cell_type": "code",
   "execution_count": 3,
   "metadata": {},
   "outputs": [],
   "source": [
    "def clustering(lattice,n,m):\n",
    "    #cluster the particles in the lattice\n",
    "    \n",
    "    ll = 0 #current largest label that we used to characterise the clusters\n",
    "    \n",
    "    #I have to start with a zero in it so that the lengths will be okay\n",
    "    links = [0]\n",
    "    \n",
    "    #iterate through the lattice\n",
    "    for y in range(n):\n",
    "        for x in range(m):\n",
    "            \n",
    "            #if there is a particle at the point that we need to cluster\n",
    "            if lattice[y,x] == 1:\n",
    "\n",
    "            #if the site is occupied\n",
    "\n",
    "                #if we are at the upper boundary \n",
    "                if y == 0:\n",
    "                    up = 0\n",
    "                else:\n",
    "                    up = lattice[y-1,x]\n",
    "\n",
    "                if x == 0:\n",
    "                    left = 0\n",
    "                else: \n",
    "                    left = lattice[y,x-1]\n",
    "\n",
    "\n",
    "                if left == 0 and up == 0: #there are no neighbours, this is a new cluster\n",
    "                    ll += 1 #increase largest cluster label\n",
    "                    lattice[y,x] = ll #add the label to the new cluster\n",
    "                    links.append(ll)\n",
    "                elif left != 0 and up == 0: #one neighbour above \n",
    "                    lattice[y,x] = root(links,left)\n",
    "                elif left == 0 and up != 0: #one neighbour to the left\n",
    "                    lattice[y,x] = root(links,up)\n",
    "                else: #there are both neighbours to the left and above \n",
    "                    union(links,left,up)\n",
    "                    lattice[y,x] = root(links,left)\n",
    "                    \n",
    "    #return the clustered lattice and the links \n",
    "    return lattice, links"
   ]
  },
  {
   "cell_type": "code",
   "execution_count": 4,
   "metadata": {
    "id": "7ZDacv2Mrh_8"
   },
   "outputs": [],
   "source": [
    "#lets do a test\n",
    "n = 5\n",
    "m = 5\n",
    "\n",
    "p = 0.5"
   ]
  },
  {
   "cell_type": "code",
   "execution_count": 5,
   "metadata": {
    "id": "d-4aqSvPrlqX"
   },
   "outputs": [],
   "source": [
    "lattice = (np.random.choice([0,1], size = n*m, p = [1-p,p])).reshape((n,m))"
   ]
  },
  {
   "cell_type": "code",
   "execution_count": 6,
   "metadata": {
    "colab": {
     "base_uri": "https://localhost:8080/"
    },
    "id": "7RIsPUt0r4N1",
    "outputId": "c499aa89-e390-4da9-918e-bed38b0422c3"
   },
   "outputs": [
    {
     "data": {
      "text/plain": [
       "array([[1, 0, 0, 0, 1],\n",
       "       [0, 1, 1, 0, 0],\n",
       "       [1, 0, 1, 1, 1],\n",
       "       [1, 1, 0, 1, 0],\n",
       "       [1, 1, 0, 1, 0]])"
      ]
     },
     "execution_count": 6,
     "metadata": {},
     "output_type": "execute_result"
    }
   ],
   "source": [
    "lattice"
   ]
  },
  {
   "cell_type": "code",
   "execution_count": 7,
   "metadata": {},
   "outputs": [],
   "source": [
    "lattice, links = clustering(lattice,n,m)"
   ]
  },
  {
   "cell_type": "code",
   "execution_count": 8,
   "metadata": {},
   "outputs": [
    {
     "data": {
      "text/plain": [
       "array([[1, 0, 0, 0, 2],\n",
       "       [0, 3, 3, 0, 0],\n",
       "       [4, 0, 3, 3, 3],\n",
       "       [4, 4, 0, 3, 0],\n",
       "       [4, 4, 0, 3, 0]])"
      ]
     },
     "execution_count": 8,
     "metadata": {},
     "output_type": "execute_result"
    }
   ],
   "source": [
    "lattice"
   ]
  },
  {
   "cell_type": "code",
   "execution_count": 9,
   "metadata": {},
   "outputs": [
    {
     "data": {
      "text/plain": [
       "[0, 1, 2, 3, 4]"
      ]
     },
     "execution_count": 9,
     "metadata": {},
     "output_type": "execute_result"
    }
   ],
   "source": [
    "links"
   ]
  },
  {
   "cell_type": "markdown",
   "metadata": {},
   "source": [
    "Clustering looks okay.\n",
    "\n",
    "Now we make a method to measure the size of clusters"
   ]
  },
  {
   "cell_type": "code",
   "execution_count": 10,
   "metadata": {},
   "outputs": [],
   "source": [
    "def measure_clusters(lattice, links, n, m):\n",
    "    #measure the size of clusters\n",
    "    \n",
    "    #contain here the sizes of the clusters\n",
    "    sizes = np.zeros(n*m)\n",
    "    \n",
    "    #iterate through the lattice\n",
    "    for y in range(n):\n",
    "        for x in range(m):\n",
    "            #num is the value of the lattice at point x,y\n",
    "            num = lattice[y,x]\n",
    "            \n",
    "            #if this number is not zero, thus there is a particle at this point in the lattice\n",
    "            if num != 0: \n",
    "                sizes[root(links,num)] += 1 #add a point to this given root \n",
    "    \n",
    "    compressed_data = []\n",
    "    for idx, size in enumerate(sizes):\n",
    "        if size != 0: #if there is a cluster with that given label attached to it\n",
    "            #we want to store the size of the cluster but we dont care about the labels at this point\n",
    "            compressed_data.append(size)\n",
    "            \n",
    "    return np.array(compressed_data)"
   ]
  },
  {
   "cell_type": "code",
   "execution_count": 11,
   "metadata": {},
   "outputs": [],
   "source": [
    "sizes = measure_clusters(lattice,links,n, m)"
   ]
  },
  {
   "cell_type": "code",
   "execution_count": 12,
   "metadata": {},
   "outputs": [
    {
     "data": {
      "text/plain": [
       "[<matplotlib.lines.Line2D at 0x7fef55560d00>]"
      ]
     },
     "execution_count": 12,
     "metadata": {},
     "output_type": "execute_result"
    },
    {
     "data": {
      "image/png": "[encoded data removed]",
      "text/plain": [
       "<Figure size 432x288 with 1 Axes>"
      ]
     },
     "metadata": {
      "needs_background": "light"
     },
     "output_type": "display_data"
    }
   ],
   "source": [
    "plt.plot(sizes)"
   ]
  },
  {
   "cell_type": "code",
   "execution_count": 13,
   "metadata": {},
   "outputs": [],
   "source": [
    "def max_mean(sizes):\n",
    "    with warnings.catch_warnings():\n",
    "        warnings.simplefilter(\"ignore\", category=RuntimeWarning)\n",
    "        max_size = np.max(sizes)\n",
    "        mean_size = np.mean(sizes[sizes<max_size])\n",
    "    if len(sizes[sizes<max_size]) == 0: \n",
    "        mean_size = 0\n",
    "    else: \n",
    "        mean_size = np.mean(sizes[sizes<max_size])\n",
    "    return max_size, mean_size"
   ]
  },
  {
   "cell_type": "code",
   "execution_count": 14,
   "metadata": {},
   "outputs": [],
   "source": [
    "def max_mean(sizes):\n",
    "    max_size = np.max(sizes)\n",
    "    \n",
    "    if len(sizes[sizes<max_size]) == 0: \n",
    "        mean_size = 0\n",
    "    else: \n",
    "        mean_size = np.mean(sizes[sizes<max_size])\n",
    "        \n",
    "    return max_size, mean_size"
   ]
  },
  {
   "cell_type": "code",
   "execution_count": 15,
   "metadata": {},
   "outputs": [],
   "source": [
    "def phase_transition(n, m, ps, itnum):\n",
    "    \n",
    "    maxs = np.zeros(len(ps))\n",
    "    means = np.zeros(len(ps))\n",
    "    \n",
    "    for idx,p in enumerate(ps):\n",
    "        for it in range(itnum):\n",
    "\n",
    "            #create random lattice\n",
    "            lattice = (np.random.choice([0,1], size = n*m, p = [1-p,p])).reshape((n,m))\n",
    "            \n",
    "            #carry out the clustering \n",
    "            lattice, links = clustering(lattice = lattice, n = n, m = m)\n",
    "\n",
    "            #measure the clusters\n",
    "            sizes = measure_clusters(lattice = lattice, links = links, n = n, m = m)\n",
    "\n",
    "            #find the maximal cluster size and the mean cluster size (without the largest)\n",
    "            max_size, mean_size = max_mean(sizes = sizes)\n",
    "            \n",
    "            maxs[idx] += max_size/itnum #add the max_size to the maxs list weighted by itnum\n",
    "            means[idx] += mean_size/itnum\n",
    "            \n",
    "    return maxs,means"
   ]
  },
  {
   "cell_type": "code",
   "execution_count": 16,
   "metadata": {},
   "outputs": [],
   "source": [
    "ps = np.linspace(0.05,0.95,20)\n",
    "\n",
    "itnum = 100\n",
    "\n",
    "n = 50\n",
    "m = 50\n",
    "\n",
    "ma,me = phase_transition(n = n, m = m, ps = ps, itnum = itnum)"
   ]
  },
  {
   "cell_type": "code",
   "execution_count": 17,
   "metadata": {},
   "outputs": [
    {
     "data": {
      "image/png": "[encoded data removed]",
      "text/plain": [
       "<Figure size 432x288 with 1 Axes>"
      ]
     },
     "metadata": {
      "needs_background": "light"
     },
     "output_type": "display_data"
    }
   ],
   "source": [
    "fig = plt.figure()\n",
    "\n",
    "plt.plot(ps,ma, label = \"max\")\n",
    "plt.plot(ps,me, label = \"mean\")\n",
    "\n",
    "plt.xlabel(\"p\",fontsize = 16)\n",
    "plt.ylabel(\"Cluster size\",fontsize = 16)\n",
    "\n",
    "plt.annotate(r\"transition point (?)\", \n",
    "             xy=(0.52, 300), \n",
    "             xytext=(0.1, 1000), \n",
    "             arrowprops=dict(facecolor='black', arrowstyle='-|>'),fontsize = 12)\n",
    "plt.legend(fontsize = 12)\n",
    "plt.show()"
   ]
  },
  {
   "cell_type": "code",
   "execution_count": null,
   "metadata": {},
   "outputs": [],
   "source": []
  }
 ],
 "metadata": {
  "colab": {
   "collapsed_sections": [],
   "name": "Untitled0.ipynb",
   "provenance": []
  },
  "kernelspec": {
   "display_name": "Python 3 (ipykernel)",
   "language": "python",
   "name": "python3"
  },
  "language_info": {
   "codemirror_mode": {
    "name": "ipython",
    "version": 3
   },
   "file_extension": ".py",
   "mimetype": "text/x-python",
   "name": "python",
   "nbconvert_exporter": "python",
   "pygments_lexer": "ipython3",
   "version": "3.8.12"
  }
 },
 "nbformat": 4,
 "nbformat_minor": 4
}
