{
 "cells": [
  {
   "cell_type": "code",
   "execution_count": 30,
   "id": "b44f8a79-55c8-4396-b604-941f5e1c6e23",
   "metadata": {},
   "outputs": [],
   "source": [
    "import numpy as np\n",
    "import matplotlib.pyplot as plt\n",
    "from scipy.constants import hbar, e, electron_mass"
   ]
  },
  {
   "cell_type": "code",
   "execution_count": 2,
   "id": "2a2b5d05-e463-46db-8ade-d9cc518874f1",
   "metadata": {},
   "outputs": [],
   "source": [
    "#length scale for the problem\n",
    "l0 = 0.276"
   ]
  },
  {
   "cell_type": "code",
   "execution_count": 3,
   "id": "164acffa-74ef-482e-b937-d74c4872ae1a",
   "metadata": {},
   "outputs": [],
   "source": [
    "def square_potential(width, V0, x):\n",
    "    #find the value of the potential V(x) for the square potential\n",
    "    if -width / 2 <= x and x <= width  / 2: #if x is within the region of the potential\n",
    "        return V0 #then we return the potential\n",
    "    else: #otherwise the potential is zero\n",
    "        return 0"
   ]
  },
  {
   "cell_type": "code",
   "execution_count": 4,
   "id": "e5ab52ea-1ea1-4a1d-b3e7-d25aac7567e1",
   "metadata": {},
   "outputs": [],
   "source": [
    "def k_func(x, potential, width, V0, E):\n",
    "    #return the value of k, which is a parameter in the numerov method\n",
    "    return -2*(potential(width = width, V0 = V0, x = x)-E)"
   ]
  },
  {
   "cell_type": "code",
   "execution_count": 5,
   "id": "99f19423-8c47-4789-87b9-f82a5e4cc342",
   "metadata": {},
   "outputs": [],
   "source": [
    "def get_ks(xs, dx, potential, width, V0, E):\n",
    "    #calculate all the possible k values for the system\n",
    "    #number of k points is x_num + 2 because we have a k value for each positions but we have also a k for both of the initial psi states that we know (at width/2 and \n",
    "    #at width/2+dx)\n",
    "    \n",
    "    #collect k values here\n",
    "    ks = []\n",
    "    \n",
    "    #add the k values for the two initial states\n",
    "    ks.append(k_func(x = xs[-1]+2.*dx, potential = potential, width = width, V0 = V0, E = E)) #width/2+dx\n",
    "    ks.append(k_func(x = xs[-1]+dx, potential = potential, width = width, V0 = V0, E = E)) #width\n",
    "    \n",
    "    #now iterate through the position values backwards so that ks contain the k values for decreasing position values\n",
    "    for x in xs[::-1]:\n",
    "        #add the k value to the list\n",
    "        ks.append(k_func(x = x, potential = potential, width = width, V0 = V0, E = E))\n",
    "    \n",
    "    #make a numpy array out of this \n",
    "    ks = np.array(ks)\n",
    "    \n",
    "    #return the ks\n",
    "    return ks"
   ]
  },
  {
   "cell_type": "code",
   "execution_count": 6,
   "id": "802afca7-7204-43d0-9a47-e381c8470745",
   "metadata": {},
   "outputs": [],
   "source": [
    "def iteration(psis, ks, dx):\n",
    "    #carry out one iteration of the numerov method\n",
    "    \n",
    "    #obtain the current state of the method\n",
    "    n = len(psis) #current number of states that we already obtained\n",
    "    \n",
    "    #obtain the k parameters for the 3 states\n",
    "    kn = ks[n-1]\n",
    "    kn_p = ks[n-2]\n",
    "    kn_m = ks[n]\n",
    "    \n",
    "    #calculate the new state using the numerov method\n",
    "    lhs = 2*(1 - 5*dx*dx*kn/(12))*psis[n-1] - (1 + 5*dx*dx*kn_p/(12))*psis[n-2]\n",
    "    psi_np = lhs /  ((1 + 5*dx*dx*kn_m/(12)))\n",
    "\n",
    "    #add the new psi state to the list and then return the list\n",
    "    psis.append(psi_np)\n",
    "    return psis"
   ]
  },
  {
   "cell_type": "code",
   "execution_count": 7,
   "id": "e9c64062-af22-4803-9294-5750d73c07eb",
   "metadata": {},
   "outputs": [],
   "source": [
    "def q_func(E):\n",
    "    #get the value of the wavevector for the initial state\n",
    "    return np.sqrt(2*E)"
   ]
  },
  {
   "cell_type": "code",
   "execution_count": 8,
   "id": "55d78df1-04b2-46b4-860f-91b6734d58af",
   "metadata": {},
   "outputs": [],
   "source": [
    "def numerov(psis, ks, dx, x_num):\n",
    "    #do the whole numerov method and obtain the wavefunction\n",
    "    for i in range(x_num+1):\n",
    "        psis = iteration(psis = psis, ks = ks, dx = dx)\n",
    "    return np.array(psis)[::-1]"
   ]
  },
  {
   "cell_type": "code",
   "execution_count": 9,
   "id": "95064736-7311-49ab-88c3-612d1b462ff8",
   "metadata": {},
   "outputs": [],
   "source": [
    "def findAB(E, dx, psi0, psi_m):\n",
    "    #find the coefficients A and B so that we can calculate the reflectance and transmittance \n",
    "    q = q_func(E)\n",
    "    A = (psi_m-psi0*np.exp(-1.j* q * dx )) / (np.exp(+1.j*q * dx) - np.exp(-1.j*q*dx) )\n",
    "    B = psi0-A\n",
    "    return A, B"
   ]
  },
  {
   "cell_type": "code",
   "execution_count": 10,
   "id": "769d6a59-4f39-4de6-bee2-38721763d190",
   "metadata": {},
   "outputs": [],
   "source": [
    "def scattering(E, potential, width, V0, x_num):\n",
    "    #do the whole previous stuff for a given energy value\n",
    "    \n",
    "    #define the positions in the systems\n",
    "    dx = width / x_num #dx is defined in this way\n",
    "    xs = np.arange(-width/2-dx, width/2, dx) / l0 #lets make the possible position values like this\n",
    "    dx /= l0 #but we need everything in units of l0 \n",
    "    width /=l0\n",
    "    \n",
    "    #obtain all the k values \n",
    "    ks = get_ks(xs = xs, dx = dx, potential = potential, width = width, V0 = V0, E = E)\n",
    "    \n",
    "    #define the initial psi values\n",
    "    psis = [np.exp(-1j*q_func(E)*dx),1]\n",
    "    \n",
    "    #carry out the numerov method and obtain the wavefunction\n",
    "    psis_final = numerov(psis = psis, ks = ks, dx = dx, x_num = x_num)\n",
    "    \n",
    "    #calculate the coefficients\n",
    "    A,B = findAB(E = E, dx = dx, psi0 = psis_final[1], psi_m = psis_final[0])\n",
    "    \n",
    "    #find the reflectance and the transmittance\n",
    "    R = (np.abs(B)**2)/(np.abs(A)**2)\n",
    "    T = 1/(np.abs(A)**2)\n",
    "    \n",
    "    #return their values\n",
    "    return R,T"
   ]
  },
  {
   "cell_type": "code",
   "execution_count": 63,
   "id": "a13d95e9-1dad-4632-8c6f-3d959b71cbcf",
   "metadata": {},
   "outputs": [],
   "source": [
    "def multi_scattering(Es, potential, width, V0, x_num):\n",
    "    #repeat the the numerov method for different energy values\n",
    "    \n",
    "    #list for the R and T values\n",
    "    Rs = []\n",
    "    Ts = []\n",
    "    \n",
    "    #for every energy value\n",
    "    for E in Es:\n",
    "        #get the R and T values\n",
    "        R, T =  scattering(E = E, potential = potential, width = width, V0 = V0, x_num = x_num)\n",
    "        \n",
    "        #add them to the lists\n",
    "        Rs.append(E)\n",
    "        Ts.append(T)\n",
    "\n",
    "    #create numpy arrays out of the lists\n",
    "    Rs = np.array(Rs)\n",
    "    Ts = np.array(Ts)\n",
    "\n",
    "    #return the values\n",
    "    return Rs, Ts"
   ]
  },
  {
   "cell_type": "code",
   "execution_count": 64,
   "id": "96deae5f-692f-405b-b644-bed950b02c94",
   "metadata": {},
   "outputs": [],
   "source": [
    "def pot_strength(width,V0):\n",
    "    #calculate the strength of the potential\n",
    "    return np.sqrt(2*e*V0*electron_mass)*width*1e-9/hbar"
   ]
  },
  {
   "cell_type": "code",
   "execution_count": 65,
   "id": "b3ce3fd0-356c-4d2d-8b59-4f049ca1549b",
   "metadata": {},
   "outputs": [],
   "source": [
    "def get_pot_width(pot_strength,V0):\n",
    "    #calculate the width of the potential for a given \n",
    "    return pot_strength*hbar/np.sqrt(2*electron_mass*e*V0)/1e-9 "
   ]
  },
  {
   "cell_type": "code",
   "execution_count": 66,
   "id": "9a8d044b-00c5-4c4c-b0fb-97f78913d4c2",
   "metadata": {},
   "outputs": [],
   "source": [
    "#height of the potential\n",
    "V0 = 2\n",
    "\n",
    "#possible energy values\n",
    "Es = np.linspace(0.01,3.,200)*V0"
   ]
  },
  {
   "cell_type": "code",
   "execution_count": 67,
   "id": "93f3e79b-7765-4d3b-aa8e-9c80a983d957",
   "metadata": {},
   "outputs": [
    {
     "name": "stdout",
     "output_type": "stream",
     "text": [
      "0.966149894404559\n"
     ]
    }
   ],
   "source": [
    "width = get_pot_width(7,V0) #get width for this value of the height for potential strength 7\n",
    "print(width)\n",
    "x_num = 1000\n",
    "#and carry out the numerov method for the energies\n",
    "Rs, Ts = multi_scattering(Es = Es, potential = square_potential, width = width, V0 = V0, x_num = x_num)"
   ]
  },
  {
   "cell_type": "code",
   "execution_count": 68,
   "id": "afdc9824-1d3f-425a-b9e5-8a3e7062496d",
   "metadata": {
    "tags": []
   },
   "outputs": [
    {
     "name": "stdout",
     "output_type": "stream",
     "text": [
      "0.966149894404559\n"
     ]
    }
   ],
   "source": [
    "#repeat for other potential strength values as well\n",
    "idth = get_pot_width(3,V0)\n",
    "print(width)\n",
    "x_num = 1000\n",
    "\n",
    "Rs2, Ts2 = multi_scattering(Es = Es, potential = square_potential, width = width, V0 = V0, x_num = x_num)"
   ]
  },
  {
   "cell_type": "code",
   "execution_count": 69,
   "id": "a909fe2a-d467-4806-b548-0ce8c1f5563a",
   "metadata": {},
   "outputs": [
    {
     "name": "stdout",
     "output_type": "stream",
     "text": [
      "0.1380214134863656\n"
     ]
    }
   ],
   "source": [
    "#and again do it for other values as well\n",
    "width = get_pot_width(1,V0)\n",
    "print(width)\n",
    "x_num = 1000\n",
    "\n",
    "Rs3, Ts3 = multi_scattering(Es = Es, potential = square_potential, width = width, V0 = V0, x_num = x_num)"
   ]
  },
  {
   "cell_type": "code",
   "execution_count": 70,
   "id": "4ddfaa67-dc07-41dc-8bcc-57dc6c2dc4e5",
   "metadata": {},
   "outputs": [],
   "source": [
    "#calculate the analytical curves (now using SI)\n",
    "def analytical_curve(E,V0,width):\n",
    "    a = width * 1e-9\n",
    "    \n",
    "    if E-V0 >= 0 : #classical regime\n",
    "        k = np.sqrt(2*electron_mass*e*(E-V0))/ hbar\n",
    "        \n",
    "        den = 1 + V0**2 / (4 * E * (E-V0) ) * (np.sin(k*a))**2\n",
    "        \n",
    "    else:\n",
    "        k = np.sqrt(2*electron_mass*e*(V0-E))/ hbar\n",
    "        \n",
    "        den = 1 + V0**2 / (4 * E * (V0-E) ) * (np.sinh(k*a))**2\n",
    "        \n",
    "    return np.real(1/den)"
   ]
  },
  {
   "cell_type": "code",
   "execution_count": 71,
   "id": "29a35400-88dd-4423-b604-c9615d10a132",
   "metadata": {},
   "outputs": [
    {
     "name": "stdout",
     "output_type": "stream",
     "text": [
      "0.966149894404559\n"
     ]
    }
   ],
   "source": [
    "#get the analytical values for potential strength 7\n",
    "ac = []\n",
    "width = get_pot_width(7,V0)\n",
    "print(width)\n",
    "\n",
    "for E in Es:\n",
    "    ac.append(analytical_curve(E = E, V0 = V0, width = width))\n",
    "    \n",
    "ac = np.array(ac2)"
   ]
  },
  {
   "cell_type": "code",
   "execution_count": 72,
   "id": "a820a099-17bf-46ce-9e3d-05ab933a1d06",
   "metadata": {},
   "outputs": [
    {
     "data": {
      "image/png": "[encoded data removed]",
      "text/plain": [
       "<Figure size 432x288 with 1 Axes>"
      ]
     },
     "metadata": {
      "needs_background": "light"
     },
     "output_type": "display_data"
    }
   ],
   "source": [
    "fig = plt.figure()\n",
    "plt.plot(Es/V0,Ts, label = \"strength = 7\")\n",
    "plt.plot(Es/V0,Ts2, label = \"... = 3\")\n",
    "plt.plot(Es/V0,Ts3, label = \"... = 1\")\n",
    "\n",
    "plt.plot(Es/V0, ac, label = \"exact, ... = 7\")\n",
    "plt.xlabel(r\"$E/V_0$\", fontsize = 14)\n",
    "plt.ylabel(r\"$T$\", fontsize = 14)\n",
    "plt.ylim(0,1.1)\n",
    "plt.plot([1,1],[0,1], \"--\", color = \"grey\")\n",
    "plt.plot([1,3],[1,1], \"--\", color = \"grey\")\n",
    "plt.legend()\n",
    "plt.grid()\n",
    "plt.show()"
   ]
  },
  {
   "cell_type": "markdown",
   "id": "919e005b-1d1e-4d28-af7b-7cb7e61d5f63",
   "metadata": {},
   "source": [
    "The peaks from the numerical simulation coincide with the exact results."
   ]
  },
  {
   "cell_type": "code",
   "execution_count": 73,
   "id": "086db76f-2ae4-4c36-930a-62d077823ca0",
   "metadata": {},
   "outputs": [],
   "source": [
    "def gaussian(x, width):\n",
    "    #return gaussian curve \n",
    "    a = width / 2\n",
    "    return np.exp( -1 * x**2 / ( 2 * a**2 ) )"
   ]
  },
  {
   "cell_type": "code",
   "execution_count": 80,
   "id": "bf0f23ab-85ea-430a-9721-9d86404c59f8",
   "metadata": {},
   "outputs": [],
   "source": [
    "def gaussian_potential(width, V0, x):\n",
    "    #if we are within the range of the potential then return the corresponding point from the gaussian, otherwise return 0\n",
    "    if -width / 2 <= x and x <= width  / 2: \n",
    "        return gaussian(x = x, width = width)*V0 #scale the gaussian with V0 amplitude\n",
    "    else: #otherwise the potential is zero\n",
    "        return 0"
   ]
  },
  {
   "cell_type": "code",
   "execution_count": 82,
   "id": "15cc6efb-06d0-42ff-be4a-bd4323033e46",
   "metadata": {},
   "outputs": [],
   "source": [
    "#repeat the whole thing again for this other potential\n",
    "V0 = 2\n",
    "Es = np.linspace(0.01,3.,200)*V0"
   ]
  },
  {
   "cell_type": "code",
   "execution_count": 83,
   "id": "8e5804f5-85d3-4df1-8b89-cdf32636627f",
   "metadata": {},
   "outputs": [
    {
     "name": "stdout",
     "output_type": "stream",
     "text": [
      "0.966149894404559\n"
     ]
    }
   ],
   "source": [
    "width = get_pot_width(7,V0)\n",
    "print(width)\n",
    "x_num = 1000\n",
    "\n",
    "Rs, Ts = multi_scattering(Es = Es, potential = gaussian_potential, width = width, V0 = V0, x_num = x_num)"
   ]
  },
  {
   "cell_type": "code",
   "execution_count": 84,
   "id": "8f3c9100-1e9f-4317-83c8-c191180c0964",
   "metadata": {},
   "outputs": [
    {
     "name": "stdout",
     "output_type": "stream",
     "text": [
      "0.4140642404590968\n"
     ]
    }
   ],
   "source": [
    "width = get_pot_width(3,V0)\n",
    "print(width)\n",
    "x_num = 1000\n",
    "\n",
    "Rs2, Ts2 = multi_scattering(Es = Es, potential = gaussian_potential, width = width, V0 = V0, x_num = x_num)"
   ]
  },
  {
   "cell_type": "code",
   "execution_count": 85,
   "id": "b354debf-a755-42e5-af25-d13fb4d6c452",
   "metadata": {},
   "outputs": [
    {
     "name": "stdout",
     "output_type": "stream",
     "text": [
      "0.1380214134863656\n"
     ]
    }
   ],
   "source": [
    "width = get_pot_width(1,V0)\n",
    "print(width)\n",
    "x_num = 1000\n",
    "\n",
    "Rs3, Ts3 = multi_scattering(Es = Es, potential = gaussian_potential, width = width, V0 = V0, x_num = x_num)"
   ]
  },
  {
   "cell_type": "code",
   "execution_count": 87,
   "id": "44357413-c248-4dc7-8691-0d60095acffa",
   "metadata": {},
   "outputs": [
    {
     "data": {
      "image/png": "[encoded data removed]",
      "text/plain": [
       "<Figure size 432x288 with 1 Axes>"
      ]
     },
     "metadata": {
      "needs_background": "light"
     },
     "output_type": "display_data"
    }
   ],
   "source": [
    "fig = plt.figure()\n",
    "plt.plot(Es/V0,Ts, label = \"strength = 7\")\n",
    "plt.plot(Es/V0,Ts2, label = \"... = 3\")\n",
    "plt.plot(Es/V0,Ts3, label = \"... = 1\")\n",
    "\n",
    "plt.xlabel(r\"$E/V_0$\", fontsize = 14)\n",
    "plt.ylabel(r\"$T$\", fontsize = 14)\n",
    "plt.ylim(0,1.1)\n",
    "plt.plot([1,1],[0,1], \"--\", color = \"grey\")\n",
    "plt.plot([1,3],[1,1], \"--\", color = \"grey\")\n",
    "plt.legend()\n",
    "plt.grid()\n",
    "plt.show()"
   ]
  },
  {
   "cell_type": "markdown",
   "id": "854366a5-6934-4778-b56f-0298b86d207a",
   "metadata": {},
   "source": [
    "Seems like that the resonances are characteristic to the square potential. "
   ]
  }
 ],
 "metadata": {
  "kernelspec": {
   "display_name": "Python 3 (ipykernel)",
   "language": "python",
   "name": "python3"
  },
  "language_info": {
   "codemirror_mode": {
    "name": "ipython",
    "version": 3
   },
   "file_extension": ".py",
   "mimetype": "text/x-python",
   "name": "python",
   "nbconvert_exporter": "python",
   "pygments_lexer": "ipython3",
   "version": "3.8.12"
  }
 },
 "nbformat": 4,
 "nbformat_minor": 5
}
