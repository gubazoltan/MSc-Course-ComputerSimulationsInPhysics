{
 "cells": [
  {
   "cell_type": "markdown",
   "id": "16eb1471-c6a7-4224-a789-a763bbb9dbee",
   "metadata": {},
   "source": [
    "### This jupyter notebook is used to generate the results for HW2."
   ]
  },
  {
   "cell_type": "code",
   "execution_count": 9,
   "id": "ef59443e-07bb-40bd-9456-3a682a304b6e",
   "metadata": {},
   "outputs": [],
   "source": [
    "import numpy as np\n",
    "import angular_correlations as ac"
   ]
  },
  {
   "cell_type": "code",
   "execution_count": 2,
   "id": "e3e1b12c-0148-43bf-8cde-ee1c0e74079a",
   "metadata": {},
   "outputs": [],
   "source": [
    "lattice = ac.Lattice(filename = \"sm_test0.dat\")"
   ]
  },
  {
   "cell_type": "code",
   "execution_count": 3,
   "id": "e9355006-93c8-4f6e-a8e0-0b8b7761f51d",
   "metadata": {},
   "outputs": [
    {
     "name": "stdout",
     "output_type": "stream",
     "text": [
      "This is a Lattice\n",
      "Lattice size in the\n",
      "\tx direction:  8\n",
      "\ty direction:  8\n",
      "Number of particles in the Lattice : 63\n",
      "Linear size of the cells:  1.217462512174625\n"
     ]
    }
   ],
   "source": [
    "lattice.lattice_print()"
   ]
  },
  {
   "cell_type": "code",
   "execution_count": 4,
   "id": "0302b821-5741-45db-bedb-873bf3fa2792",
   "metadata": {},
   "outputs": [
    {
     "name": "stdout",
     "output_type": "stream",
     "text": [
      "This is a Bucket\n",
      "\tnumber of particles:  1\n",
      "\tpositions: \n",
      "[[1.0759499999999997, 1.503653]]\n"
     ]
    }
   ],
   "source": [
    "lattice.bucket_matrix[0][1].print_bucket()"
   ]
  },
  {
   "cell_type": "code",
   "execution_count": 5,
   "id": "588b7a8c-1043-4edc-bc6a-659dc7d67b10",
   "metadata": {},
   "outputs": [
    {
     "name": "stdout",
     "output_type": "stream",
     "text": [
      "Particle number okay:\n",
      "no bucket contains more than 4 particles\n",
      "Maximal number of particles in a bucket: 2\n"
     ]
    }
   ],
   "source": [
    "lattice.part_num_checker()"
   ]
  },
  {
   "cell_type": "code",
   "execution_count": 6,
   "id": "6d7f8e50-f74b-461d-9e16-8a850a251fda",
   "metadata": {},
   "outputs": [],
   "source": [
    "angular_correlation = lattice.angular_correlation()"
   ]
  },
  {
   "cell_type": "code",
   "execution_count": 7,
   "id": "94a534d7-b909-4a0a-8596-acad87422169",
   "metadata": {},
   "outputs": [
    {
     "name": "stdout",
     "output_type": "stream",
     "text": [
      "Correlations are consistent.\n"
     ]
    }
   ],
   "source": [
    "ac.corr_checker(angular_correlation)"
   ]
  },
  {
   "cell_type": "code",
   "execution_count": 10,
   "id": "986b8a59-8b9e-405a-86b2-1bfbe1fb07ce",
   "metadata": {},
   "outputs": [
    {
     "data": {
      "image/png": "[encoded data removed]",
      "text/plain": [
       "<Figure size 432x288 with 1 Axes>"
      ]
     },
     "metadata": {
      "needs_background": "light"
     },
     "output_type": "display_data"
    }
   ],
   "source": [
    "ang_min = -np.pi\n",
    "ang_max = np.pi\n",
    "bin_num = 40\n",
    "vals,bins = ac.histogrammaker(angular_correlation,ang_min,ang_max,bin_num)"
   ]
  },
  {
   "cell_type": "markdown",
   "id": "8e8f0dc0-3a0f-417f-b310-5bbad0777f29",
   "metadata": {},
   "source": [
    "### Now repeat for the larger datasets\n",
    "\n",
    "First for test0.dat."
   ]
  },
  {
   "cell_type": "code",
   "execution_count": 18,
   "id": "19950fec-9881-41c9-ae9d-e5468d1d2659",
   "metadata": {},
   "outputs": [],
   "source": [
    "lattice = ac.Lattice(filename = \"test0.dat\")"
   ]
  },
  {
   "cell_type": "code",
   "execution_count": 19,
   "id": "7c54ffc6-647c-4481-9c22-7f81062023ef",
   "metadata": {},
   "outputs": [],
   "source": [
    "angular_correlation = lattice.angular_correlation()"
   ]
  },
  {
   "cell_type": "code",
   "execution_count": 20,
   "id": "68709b1b-8aaf-45f0-bb6f-cf268e09a18a",
   "metadata": {},
   "outputs": [
    {
     "name": "stdout",
     "output_type": "stream",
     "text": [
      "Correlations are consistent.\n"
     ]
    }
   ],
   "source": [
    "ac.corr_checker(angular_correlation)"
   ]
  },
  {
   "cell_type": "code",
   "execution_count": 21,
   "id": "94262f82-9a15-4388-9aa3-5004b3eb3a60",
   "metadata": {},
   "outputs": [
    {
     "data": {
      "image/png": "[encoded data removed]",
      "text/plain": [
       "<Figure size 432x288 with 1 Axes>"
      ]
     },
     "metadata": {
      "needs_background": "light"
     },
     "output_type": "display_data"
    }
   ],
   "source": [
    "ang_min = -np.pi\n",
    "ang_max = np.pi\n",
    "bin_num = 40\n",
    "vals,bins = ac.histogrammaker(angular_correlation,ang_min,ang_max,bin_num)"
   ]
  },
  {
   "cell_type": "markdown",
   "id": "99eef3d3-87ae-4c3a-98a8-263fefc15a62",
   "metadata": {},
   "source": [
    "And now for test1.dat"
   ]
  },
  {
   "cell_type": "code",
   "execution_count": 22,
   "id": "3daab261-59fa-4ad8-a0e7-fd9574b5dccc",
   "metadata": {},
   "outputs": [],
   "source": [
    "lattice = ac.Lattice(filename = \"test1.dat\")"
   ]
  },
  {
   "cell_type": "code",
   "execution_count": 23,
   "id": "04898e94-444b-4d21-a2b1-b96a00f1ced5",
   "metadata": {},
   "outputs": [],
   "source": [
    "angular_correlation = lattice.angular_correlation()"
   ]
  },
  {
   "cell_type": "code",
   "execution_count": 24,
   "id": "1581fa8a-ccc6-4c9a-a272-ef2a8f6887fe",
   "metadata": {},
   "outputs": [
    {
     "name": "stdout",
     "output_type": "stream",
     "text": [
      "Correlations are consistent.\n"
     ]
    }
   ],
   "source": [
    "ac.corr_checker(angular_correlation)"
   ]
  },
  {
   "cell_type": "code",
   "execution_count": 26,
   "id": "4c06f9fc-dab1-48bb-9abb-ab67df4592c1",
   "metadata": {},
   "outputs": [
    {
     "data": {
      "image/png": "[encoded data removed]",
      "text/plain": [
       "<Figure size 432x288 with 1 Axes>"
      ]
     },
     "metadata": {
      "needs_background": "light"
     },
     "output_type": "display_data"
    }
   ],
   "source": [
    "ang_min = -np.pi\n",
    "ang_max = np.pi\n",
    "bin_num = 50\n",
    "vals,bins = ac.histogrammaker(angular_correlation,ang_min,ang_max,bin_num)"
   ]
  },
  {
   "cell_type": "markdown",
   "id": "1ff53965-c97f-4535-9d19-72ab2bb86ab6",
   "metadata": {},
   "source": [
    "This distribution of angular correlations suggests that perhaps the data was collected from a crystal structure. \n",
    "\n",
    "We can clearly observe the hexagonal structure from the above distribution."
   ]
  },
  {
   "cell_type": "code",
   "execution_count": null,
   "id": "b213c4e2-668c-4cea-a1c0-2f4f6a9e3f7c",
   "metadata": {},
   "outputs": [],
   "source": []
  }
 ],
 "metadata": {
  "kernelspec": {
   "display_name": "Python 3 (ipykernel)",
   "language": "python",
   "name": "python3"
  },
  "language_info": {
   "codemirror_mode": {
    "name": "ipython",
    "version": 3
   },
   "file_extension": ".py",
   "mimetype": "text/x-python",
   "name": "python",
   "nbconvert_exporter": "python",
   "pygments_lexer": "ipython3",
   "version": "3.8.12"
  }
 },
 "nbformat": 4,
 "nbformat_minor": 5
}
