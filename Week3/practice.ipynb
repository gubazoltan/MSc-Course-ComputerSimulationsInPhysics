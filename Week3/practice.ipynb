{
 "cells": [
  {
   "cell_type": "code",
   "execution_count": 1,
   "id": "2d8de62e",
   "metadata": {},
   "outputs": [],
   "source": [
    "import numpy as np\n",
    "import matplotlib.pyplot as plt\n",
    "import math"
   ]
  },
  {
   "cell_type": "code",
   "execution_count": 2,
   "id": "56540f10",
   "metadata": {},
   "outputs": [],
   "source": [
    "def collision_time(i,j,positions,vs):\n",
    "    #calculates the time needed to pass before the two bodies would collide if their velocities remained unchanged\n",
    "    d = abs(positions[i]-positions[j]) #distance between the objects\n",
    "    if vs[i]-vs[j] == 0 or d == 0:\n",
    "        tau = math.inf #in these cases the collision time is infinite\n",
    "    else:\n",
    "        #this quantity is positive when the collision can happen and negativ when it cannot happen (due to velocities) \n",
    "        tau = d / (vs[i]-vs[j])\n",
    "        \n",
    "    #time needed to pass before the collision\n",
    "    return tau"
   ]
  },
  {
   "cell_type": "code",
   "execution_count": 3,
   "id": "57559134",
   "metadata": {},
   "outputs": [],
   "source": [
    "def all_coll_time(positions,vs,n=4):\n",
    "    #calculates all the collision times for the bodies\n",
    "     \n",
    "    #temporarly this is the collision that will happen \n",
    "    temp_c_t = collision_time(0,0,positions,vs)\n",
    "    temp_i = 0\n",
    "    temp_j = 0\n",
    "    for i in range(n): #iterate through the balls\n",
    "        for j in range(i+1,n): #iterate through all the other balls\n",
    "            c_t = collision_time(i,j,positions,vs) #calculate collision time for these two balls\n",
    "            if c_t <= temp_c_t and c_t >= 0: #if the collision time is smaller than the current smallest time and it is positive we save it\n",
    "                temp_c_t = c_t\n",
    "                temp_i = i\n",
    "                temp_j = j\n",
    "    \n",
    "    #return the information about the collision that will happen next\n",
    "    return temp_i,temp_j, temp_c_t"
   ]
  },
  {
   "cell_type": "code",
   "execution_count": 4,
   "id": "92feb890",
   "metadata": {},
   "outputs": [],
   "source": [
    "def update_pos(dt,positions,vs):\n",
    "    #update the positions of the balls based on their velocities\n",
    "    positions = dt * vs + positions    \n",
    "    #return the positions\n",
    "    return positions"
   ]
  },
  {
   "cell_type": "code",
   "execution_count": 5,
   "id": "12a4436e",
   "metadata": {},
   "outputs": [],
   "source": [
    "def collision(i,j,vs,masses):\n",
    "    #calculate the outgoing velocities of two colliding particles\n",
    "    \n",
    "    #masses\n",
    "    mi = masses[i]\n",
    "    mj = masses[j]\n",
    "    M =  mi + mj\n",
    "    \n",
    "    #new velocities\n",
    "    vs_new = np.copy(vs)\n",
    "    \n",
    "    if i == 0: #bouncing back from a wall\n",
    "        ui = 0\n",
    "        uj = -vs[j]\n",
    "    elif j == 0: #bouncing back from a wall (but this case should never happen) \n",
    "        ui = -vs[i]\n",
    "        uj = 0\n",
    "    else: #if it is a proper collision with two balls then these are the outgoing velocities \n",
    "        #formulas are copied from internet\n",
    "        #source: https://scipython.com/blog/two-dimensional-collisions/\n",
    "        ui = ((mi-mj)/(M))*vs[i] + ((2*mj)/(M))*vs[j]\n",
    "        uj = ((2*mi)/(M))*vs[i] + ((mj-mi)/(M))*vs[j]\n",
    "    \n",
    "    #set the new velocities\n",
    "    vs_new[i] = ui\n",
    "    vs_new[j] = uj\n",
    "    \n",
    "    #return new velocities\n",
    "    return np.array(vs_new)"
   ]
  },
  {
   "cell_type": "code",
   "execution_count": 6,
   "id": "371256ab",
   "metadata": {},
   "outputs": [],
   "source": [
    "def sim_3body(x):\n",
    "    #carry out the simulations for a given value of x\n",
    "    \n",
    "    #initial positions of the particles\n",
    "    positions = np.array([0.,1.,2.,3.])\n",
    "    \n",
    "    #masses of the particles\n",
    "    #a wall is now also a particle with effectively infinite mass sitting at the origin\n",
    "    masses = np.array([1e30,10-x,x,1.])\n",
    "    \n",
    "    #give initial velocities to the balls\n",
    "    vs_init = np.array([0.,-1.,-1.,-1.])\n",
    "    \n",
    "    #rename variable for konvíniensz\n",
    "    vs = np.copy(vs_init)\n",
    "    \n",
    "    #while the third ball did not change the direction of its velocity\n",
    "    while vs[3]<0:\n",
    "        \n",
    "        #get back the time of the next collision and the index of the colliding balls\n",
    "        ci,cj,ct = all_coll_time(positions, vs)\n",
    "        \n",
    "        #update the positions to the moment of collision\n",
    "        positions = update_pos(ct,positions,vs)\n",
    "        \n",
    "        #calculate the new velocities of the colliding balls\n",
    "        vs = collision(ci,cj,vs,masses)\n",
    "        \n",
    "    #return the velocity of the third ball once its velocity has changed its direction\n",
    "    return vs[3]"
   ]
  },
  {
   "cell_type": "code",
   "execution_count": 7,
   "id": "b38c8c4b",
   "metadata": {},
   "outputs": [],
   "source": [
    "xs = np.arange(0.1,10,0.001)\n",
    "v_final3_list = []\n",
    "\n",
    "for x in xs:\n",
    "    v_final3_list.append(sim_3body(x))"
   ]
  },
  {
   "cell_type": "code",
   "execution_count": 8,
   "id": "f689ca26",
   "metadata": {},
   "outputs": [
    {
     "data": {
      "image/png": "[encoded data removed]",
      "text/plain": [
       "<Figure size 432x288 with 1 Axes>"
      ]
     },
     "metadata": {
      "needs_background": "light"
     },
     "output_type": "display_data"
    }
   ],
   "source": [
    "fig = plt.figure()\n",
    "\n",
    "plt.plot(xs,v_final3_list)\n",
    "\n",
    "plt.xlabel(\"Value of x\", fontsize = 16)\n",
    "plt.ylabel(r\"$v_3^{\\mathrm{out}}$\", fontsize = 16)\n",
    "plt.grid(True)"
   ]
  },
  {
   "cell_type": "code",
   "execution_count": 9,
   "id": "2e09d7c0-5945-4654-a32a-5cb352eeaf76",
   "metadata": {},
   "outputs": [
    {
     "data": {
      "text/plain": [
       "2217"
      ]
     },
     "execution_count": 9,
     "metadata": {},
     "output_type": "execute_result"
    }
   ],
   "source": [
    "np.argmax(v_final3_list)"
   ]
  },
  {
   "cell_type": "code",
   "execution_count": 10,
   "id": "7a3161c7-dbd9-4466-b491-ab350aa32642",
   "metadata": {},
   "outputs": [
    {
     "data": {
      "text/plain": [
       "3.293400301477238"
      ]
     },
     "execution_count": 10,
     "metadata": {},
     "output_type": "execute_result"
    }
   ],
   "source": [
    "v_final3_list[2217]"
   ]
  },
  {
   "cell_type": "code",
   "execution_count": 11,
   "id": "72985959-0b21-4672-859c-5f44bd3d6646",
   "metadata": {},
   "outputs": [
    {
     "data": {
      "text/plain": [
       "2.317000000000002"
      ]
     },
     "execution_count": 11,
     "metadata": {},
     "output_type": "execute_result"
    }
   ],
   "source": [
    "xs[2217]"
   ]
  },
  {
   "cell_type": "markdown",
   "id": "a1e9505d-1d69-4421-a03f-1dcfe65a997b",
   "metadata": {},
   "source": [
    "## Result\n",
    "\n",
    "The largest outgoing velocity for the third ball was $v_3^{\\mathrm{out}} \\approx 3.29$ and it occured for $x = 2.317$."
   ]
  }
 ],
 "metadata": {
  "kernelspec": {
   "display_name": "Python 3 (ipykernel)",
   "language": "python",
   "name": "python3"
  },
  "language_info": {
   "codemirror_mode": {
    "name": "ipython",
    "version": 3
   },
   "file_extension": ".py",
   "mimetype": "text/x-python",
   "name": "python",
   "nbconvert_exporter": "python",
   "pygments_lexer": "ipython3",
   "version": "3.8.12"
  }
 },
 "nbformat": 4,
 "nbformat_minor": 5
}
