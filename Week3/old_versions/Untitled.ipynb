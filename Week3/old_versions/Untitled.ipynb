{
 "cells": [
  {
   "cell_type": "code",
   "execution_count": 1,
   "id": "7c24af71-f5f7-40f4-9413-c8f49b905a6b",
   "metadata": {},
   "outputs": [],
   "source": [
    "import numpy as np"
   ]
  },
  {
   "cell_type": "code",
   "execution_count": 2,
   "id": "98595b5f-543c-494e-b891-fbb7e5332522",
   "metadata": {},
   "outputs": [],
   "source": [
    "def entry_transform(number,N):\n",
    "    i = int(number/N)\n",
    "    j = number-i*N\n",
    "    return i,j"
   ]
  },
  {
   "cell_type": "code",
   "execution_count": 3,
   "id": "42b88896-19db-4227-b794-594ab82fc983",
   "metadata": {},
   "outputs": [],
   "source": [
    "def create_neighs():\n",
    "    even_neighbours = [[0,1],[1,0],[1,-1],[0,-1],[-1,-1],[-1,0]]\n",
    "    odd_neighbours = [[0,1],[1,0],[1,1],[0,-1],[-1,0],[-1,1]]\n",
    "    neighs = [even_neighbours,odd_neighbours]  \n",
    "    return neighs"
   ]
  },
  {
   "cell_type": "code",
   "execution_count": 36,
   "id": "e44e8daa-ba09-4e68-8673-c866e4722401",
   "metadata": {},
   "outputs": [],
   "source": [
    "class Lattice:\n",
    "    def __init__(self,N, particle_number, Beta):\n",
    "        #create the empty lattice\n",
    "        lattice_matrix = np.zeros(N*N).reshape((N,N))\n",
    "\n",
    "        #fill the lattice with particle_number particles\n",
    "        part_positions = np.random.choice(a = np.arange(N*N), size = particle_number, replace = False)\n",
    "\n",
    "        #now transform the particle positions to fill in the lattice matrix\n",
    "        for k in range(particle_number):\n",
    "            i,j = entry_transform(part_positions[k],N)\n",
    "            lattice_matrix[i,j] = 1 #place particle in the correct position\n",
    "        \n",
    "        self.lattice_matrix = lattice_matrix \n",
    "        self.size = N \n",
    "        self.particle_number = particle_number\n",
    "        self.temp = Beta\n",
    "        \n",
    "\n",
    "    def int_energy(self,i,j):\n",
    "        #calculate the energy of the current configuration by counting the number of neighbouring particles\n",
    "        neighs = create_neighs()\n",
    "\n",
    "        #size of the lattice\n",
    "        N = self.size\n",
    "        \n",
    "        #calculate the energy of the electron configuration\n",
    "        energy = 0\n",
    "        #iterate through the neighbours\n",
    "        for neigh in neighs[i%2]:\n",
    "            neigh_i, neigh_j = (i+neigh[0])%N, (j+neigh[1])%N\n",
    "            energy += self.lattice_matrix[neigh_i,neigh_j]\n",
    "        return energy\n",
    "        \n",
    "    def new_configurations(self):\n",
    "        neighs = create_neighs()\n",
    "        \n",
    "        Beta = self.temp\n",
    "        N = self.size\n",
    "        lattice = self.lattice_matrix\n",
    "        \n",
    "        #list all the possible configurations and the transition rates here\n",
    "        new_configs = []\n",
    "        rates = []\n",
    "        #iterate through the lattice\n",
    "        for i in range(N):\n",
    "            for j in range(N):\n",
    "                \n",
    "                if lattice[i,j] == 1: #there is a particle in the lattice\n",
    "                    E_old = self.int_energy(i,j) #calculate the energy of the old configuration\n",
    "                    \n",
    "                    for neigh in neighs[i%2]: #iterate through the neighbours\n",
    "                        neigh_i, neigh_j = (i+neigh[0])%N, (j+neigh[1])%N #position of the neighbouring site in the lattice\n",
    "                        #then if the neighbour is empty we can hop into it\n",
    "                        if lattice[neigh_i,neigh_j] == 0:\n",
    "                            #calculate the energy for this empty neighbouring site\n",
    "                            E_new = self.int_energy(neigh_i,neigh_j)-1\n",
    "                            rate = np.exp(-(E_old-E_new)*Beta)\n",
    "                            new_configs.append([i,j,neigh_i,neigh_j,E_old,E_new])\n",
    "                            rates.append(rate)\n",
    "                            \n",
    "        return new_configs, rates\n",
    "    \n",
    "    def update_lattice(self, i, j, new_i, new_j):\n",
    "        lattice = self.lattice_matrix\n",
    "\n",
    "        #destroy particle at site i,j\n",
    "        lattice[i, j] = 0\n",
    "\n",
    "        #and recreate the particle at site new_i,new_j\n",
    "        lattice[new_i, new_j] = 1\n",
    "\n",
    "        #update the lattice matrix\n",
    "        self.lattice_matrix = lattice\n",
    "\n",
    "\n",
    "    def find_transition(self, new_configs, rates):\n",
    "        #from the possible new configurations randomly choose one and carry it out\n",
    "        Beta = self.temp\n",
    "        N = self.size\n",
    "        lattice = self.lattice_matrix\n",
    "        \n",
    "        #total rate/\"partition function\"\n",
    "        tot_rate = sum(rates)\n",
    "\n",
    "        u = np.random.random()\n",
    "        val = u*tot_rate\n",
    "\n",
    "        l = -1\n",
    "        while val > 0:\n",
    "            l += 1\n",
    "            val -= rates[l]\n",
    "            \n",
    "        #we need to carry out the l-th transition\n",
    "        #new configuration will be this\n",
    "        chosen_config = new_configs[l] \n",
    "        i, j, new_i, new_j = chosen_config[0], chosen_config[1], chosen_config[2], chosen_config[3]\n",
    "        \n",
    "        #update the lattice according to the new configuration\n",
    "        self.update_lattice(i = i, j = j, new_i = new_i, new_j = new_j)\n",
    "\n",
    "    def correlations(self):\n",
    "        neighs = create_neighs()\n",
    "\n",
    "        corr = 0\n",
    "\n",
    "        N = self.size\n",
    "        lattice = self.lattice_matrix\n",
    "        \n",
    "        for i in range(N):\n",
    "            for j in range(N):\n",
    "                for neigh in neighs[i%2]: #iterate through the neighbours\n",
    "                    neigh_i, neigh_j = (i+neigh[0])%N, (j+neigh[1])%N #position of the neighbour \n",
    "                    corr += lattice[i,j]*lattice[neigh_i,neigh_j] #add the correlations \n",
    "\n",
    "        return corr/2 #avoid double counting"
   ]
  },
  {
   "cell_type": "code",
   "execution_count": 37,
   "id": "0ecfaf50-4e5c-4d03-bda6-428e3ccbbd7b",
   "metadata": {},
   "outputs": [],
   "source": [
    "def simulate(Lattice, it_num): \n",
    "    corrs = []\n",
    "    corrs.append(Lattice.correlations())\n",
    "    \n",
    "    #do it_num iterations\n",
    "    for n in range(it_num):\n",
    "        #create a new configuration with transition rates\n",
    "        newconfigs, rates = Lattice.new_configurations()\n",
    "        \n",
    "        #update the lattice according to the transition rates\n",
    "        Lattice.find_transition(new_configs = newconfigs, rates = rates)\n",
    "        \n",
    "        #add the new correlations to the corrs list\n",
    "        corrs.append(Lattice.correlations())\n",
    "        \n",
    "    return np.array(corrs)"
   ]
  },
  {
   "cell_type": "code",
   "execution_count": 43,
   "id": "eeca6c64-5eca-44f5-91a7-8d643f56f4e0",
   "metadata": {},
   "outputs": [],
   "source": [
    "import matplotlib.pyplot as plt"
   ]
  },
  {
   "cell_type": "code",
   "execution_count": 52,
   "id": "cdc7057f-3ab0-4d3f-bef2-c25c2771f82b",
   "metadata": {},
   "outputs": [],
   "source": [
    "N = 40\n",
    "particle_number = int(N*N/2)\n",
    "Beta = 1\n",
    "Test_lattice = Lattice(N = N, particle_number = particle_number, Beta = Beta)"
   ]
  },
  {
   "cell_type": "code",
   "execution_count": 53,
   "id": "10b32dd1-3fb9-49ef-9e34-bbdf716b5ab7",
   "metadata": {},
   "outputs": [],
   "source": [
    "it_num = 20000\n",
    "\n",
    "cors = simulate(Lattice = Test_lattice, it_num = it_num)"
   ]
  },
  {
   "cell_type": "code",
   "execution_count": 54,
   "id": "14a2d817-24dd-4744-82f6-6ef14917f996",
   "metadata": {},
   "outputs": [
    {
     "data": {
      "image/png": "[encoded data removed]",
      "text/plain": [
       "<Figure size 432x288 with 1 Axes>"
      ]
     },
     "metadata": {
      "needs_background": "light"
     },
     "output_type": "display_data"
    }
   ],
   "source": [
    "plt.plot(cors/particle_number)\n",
    "plt.xlabel(\"Iteration\",fontsize = 14)\n",
    "plt.ylabel(\"Correlation\", fontsize = 14)\n",
    "plt.show()"
   ]
  },
  {
   "cell_type": "code",
   "execution_count": 55,
   "id": "ae44ddf9-7937-40de-ae2f-3b4c65410305",
   "metadata": {},
   "outputs": [],
   "source": [
    "N = 40\n",
    "particle_number = int(N*N/2)\n",
    "Beta = 0.1\n",
    "Test_lattice = Lattice(N = N, particle_number = particle_number, Beta = Beta)"
   ]
  },
  {
   "cell_type": "code",
   "execution_count": 56,
   "id": "29633bb1-528c-4ed2-8c5d-0cb2e74b2cbb",
   "metadata": {},
   "outputs": [],
   "source": [
    "it_num = 20000\n",
    "\n",
    "cors = simulate(Lattice = Test_lattice, it_num = it_num)"
   ]
  },
  {
   "cell_type": "code",
   "execution_count": 57,
   "id": "452322a5-d39f-4ca1-ad9c-7e2364030ee1",
   "metadata": {},
   "outputs": [
    {
     "data": {
      "image/png": "[encoded data removed]",
      "text/plain": [
       "<Figure size 432x288 with 1 Axes>"
      ]
     },
     "metadata": {
      "needs_background": "light"
     },
     "output_type": "display_data"
    }
   ],
   "source": [
    "plt.plot(cors/particle_number)\n",
    "plt.xlabel(\"Iteration\",fontsize = 14)\n",
    "plt.ylabel(\"Correlation\", fontsize = 14)\n",
    "plt.show()"
   ]
  },
  {
   "cell_type": "code",
   "execution_count": 58,
   "id": "9a6976c0-104a-4478-b9c9-de21ec75d2d8",
   "metadata": {},
   "outputs": [],
   "source": [
    "def transition_point_finder(Betas, N, particle_number, it_num):\n",
    "    final_corr = []\n",
    "    for Beta in Betas:\n",
    "        current_lattice = Lattice(N = N, particle_number = particle_number, Beta = Beta)\n",
    "        final_corr.append(simulate(Lattice = current_lattice, it_num = it_num))"
   ]
  },
  {
   "cell_type": "code",
   "execution_count": null,
   "id": "4e2ce8fd-d332-4595-b748-4a93f6d3bb13",
   "metadata": {},
   "outputs": [],
   "source": []
  }
 ],
 "metadata": {
  "kernelspec": {
   "display_name": "Python 3 (ipykernel)",
   "language": "python",
   "name": "python3"
  },
  "language_info": {
   "codemirror_mode": {
    "name": "ipython",
    "version": 3
   },
   "file_extension": ".py",
   "mimetype": "text/x-python",
   "name": "python",
   "nbconvert_exporter": "python",
   "pygments_lexer": "ipython3",
   "version": "3.8.12"
  }
 },
 "nbformat": 4,
 "nbformat_minor": 5
}
