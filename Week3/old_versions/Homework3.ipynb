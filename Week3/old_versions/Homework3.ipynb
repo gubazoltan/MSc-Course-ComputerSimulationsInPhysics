{
 "cells": [
  {
   "cell_type": "code",
   "execution_count": 1,
   "id": "01c0b426-a44b-4a9a-afdf-faf1637fe533",
   "metadata": {},
   "outputs": [],
   "source": [
    "import numpy as np\n",
    "import matplotlib.pyplot as plt"
   ]
  },
  {
   "cell_type": "code",
   "execution_count": 2,
   "id": "35f4a1c4-6747-4818-aa18-ebe23deef33b",
   "metadata": {},
   "outputs": [],
   "source": [
    "def entry_transform(number,N):\n",
    "    i = int(number/N)\n",
    "    j = number-i*N\n",
    "    return i,j"
   ]
  },
  {
   "cell_type": "code",
   "execution_count": 3,
   "id": "321c474a-7b50-4791-a34d-1ae377364140",
   "metadata": {},
   "outputs": [],
   "source": [
    "def create_lattice(N,particle_number): \n",
    "    #create the empty lattice\n",
    "    lattice_matrix = np.zeros(N*N).reshape((N,N))\n",
    "    \n",
    "    #fill the lattice with particle_number particles\n",
    "    part_positions = np.random.choice(a = np.arange(N*N), size = particle_number, replace = False)\n",
    "    \n",
    "    #now transform the particle positions to fill in the lattice matrix\n",
    "    for k in range(particle_number):\n",
    "        i,j = entry_transform(part_positions[k],N)\n",
    "        lattice_matrix[i,j] = 1 #place particle in the correct position\n",
    "    \n",
    "    return lattice_matrix"
   ]
  },
  {
   "cell_type": "code",
   "execution_count": 4,
   "id": "ab4735c7-d775-406b-9cfe-921305b9a990",
   "metadata": {},
   "outputs": [],
   "source": [
    "def create_neighs():\n",
    "    even_neighbours = [[0,1],[1,0],[1,-1],[0,-1],[-1,-1],[-1,0]]\n",
    "    odd_neighbours = [[0,1],[1,0],[1,1],[0,-1],[-1,0],[-1,1]]\n",
    "    neighs = [even_neighbours,odd_neighbours]  \n",
    "    return neighs"
   ]
  },
  {
   "cell_type": "code",
   "execution_count": 5,
   "id": "35563d03-1a53-436e-b86c-d5a441133362",
   "metadata": {},
   "outputs": [],
   "source": [
    "def int_energy(lattice,N,i,j):\n",
    "    #calculate the energy of the current configuration by counting the number of neighbouring particles\n",
    "    neighs = create_neighs()\n",
    "    \n",
    "    energy = 0\n",
    "    #iterate through the neighbours\n",
    "    for neigh in neighs[i%2]:\n",
    "        neigh_i, neigh_j = (i+neigh[0])%N, (j+neigh[1])%N\n",
    "        energy += lattice[neigh_i,neigh_j]\n",
    "    return energy"
   ]
  },
  {
   "cell_type": "code",
   "execution_count": 6,
   "id": "e26a764e-9205-4327-9825-58f3a8478d93",
   "metadata": {},
   "outputs": [],
   "source": [
    "def new_configurations(lattice, N, Beta):\n",
    "    neighs = create_neighs()\n",
    "    \n",
    "    new_configs = []\n",
    "    rates = []\n",
    "    #iterate through the lattice\n",
    "    for i in range(N):\n",
    "        for j in range(N):\n",
    "            if lattice[i,j] == 1: #there is a particle in the lattice\n",
    "                E_old = int_energy(lattice,N,i,j) #calculate the energy of the old configuration\n",
    "                for neigh in neighs[i%2]: #iterate through the neighbours\n",
    "                    neigh_i, neigh_j = (i+neigh[0])%N, (j+neigh[1])%N #position of the neighbouring site in the lattice\n",
    "                    #then if the neighbour is empty we can hop into it\n",
    "                    if lattice[neigh_i,neigh_j] == 0:\n",
    "                        #calculate the energy for this empty neighbouring site\n",
    "                        E_new = int_energy(lattice,N,neigh_i,neigh_j)-1\n",
    "                        rate = np.exp(-(E_old-E_new)*Beta)\n",
    "                        new_configs.append([i,j,neigh_i,neigh_j,E_old,E_new])\n",
    "                        rates.append(rate)\n",
    "    return new_configs, rates"
   ]
  },
  {
   "cell_type": "code",
   "execution_count": 7,
   "id": "a7bd63c9-1959-4db7-8ec6-85d5dbdf6a7b",
   "metadata": {},
   "outputs": [],
   "source": [
    "def update_lattice(lattice, i, j, new_i, new_j):\n",
    "    #destroy particle at site i,j\n",
    "    lattice[i, j] = 0\n",
    "    \n",
    "    #and recreate the particle at site new_i,new_j\n",
    "    lattice[new_i, new_j] = 1\n",
    "    \n",
    "    #return the lattice\n",
    "    return lattice"
   ]
  },
  {
   "cell_type": "code",
   "execution_count": 8,
   "id": "5f3292ef-68d0-48af-9582-707009743e51",
   "metadata": {},
   "outputs": [],
   "source": [
    "def find_transition(lattice, N, new_configs, rates, Beta):\n",
    "    #from the possible new configurations randomly choose one and carry it out\n",
    "    \n",
    "    #total rate/\"partition function\"\n",
    "    tot_rate = sum(rates)\n",
    "    \n",
    "    u = np.random.random()\n",
    "    val = u*tot_rate\n",
    "    \n",
    "    l = -1\n",
    "    while val > 0:\n",
    "        l += 1\n",
    "        val -= rates[l]\n",
    "    #we need to carry out the l-th transition\n",
    "    chosen_config = new_configs[l]\n",
    "    i, j, new_i, new_j = chosen_config[0], chosen_config[1], chosen_config[2], chosen_config[3]\n",
    "    lattice = update_lattice(lattice = lattice, i = i, j = j, new_i = new_i, new_j = new_j)\n",
    "    \n",
    "    return lattice"
   ]
  },
  {
   "cell_type": "code",
   "execution_count": 9,
   "id": "8f3f0e5d-c68c-4447-bdc2-8981993aa31e",
   "metadata": {},
   "outputs": [
    {
     "data": {
      "text/plain": [
       "array([[0., 0., 0., 0., 0., 1.],\n",
       "       [0., 0., 0., 0., 0., 0.],\n",
       "       [0., 0., 1., 0., 0., 0.],\n",
       "       [0., 0., 0., 0., 0., 0.],\n",
       "       [0., 0., 1., 0., 0., 1.],\n",
       "       [0., 0., 0., 0., 0., 0.]])"
      ]
     },
     "execution_count": 9,
     "metadata": {},
     "output_type": "execute_result"
    }
   ],
   "source": [
    "N = 6\n",
    "partnum = 4\n",
    "Beta = 1\n",
    "M = create_lattice(N = N, particle_number = partnum)\n",
    "M"
   ]
  },
  {
   "cell_type": "code",
   "execution_count": 10,
   "id": "202f05ae-051d-4e31-8eff-a215b0364087",
   "metadata": {},
   "outputs": [],
   "source": [
    "newconfigs, rates = new_configurations(lattice = M, N = N, Beta = Beta)"
   ]
  },
  {
   "cell_type": "code",
   "execution_count": 11,
   "id": "c95069e6-feb5-43ef-be4d-cef9c6ce58f2",
   "metadata": {},
   "outputs": [],
   "source": [
    "newM = find_transition(lattice = M, N = N, new_configs = newconfigs, rates = rates, Beta = Beta)"
   ]
  },
  {
   "cell_type": "code",
   "execution_count": 12,
   "id": "f94c1a88-74af-4ffe-843d-a213ec7ce1ec",
   "metadata": {},
   "outputs": [
    {
     "data": {
      "text/plain": [
       "array([[0., 0., 0., 0., 0., 0.],\n",
       "       [0., 0., 0., 0., 0., 0.],\n",
       "       [0., 0., 1., 0., 0., 0.],\n",
       "       [0., 0., 0., 0., 0., 0.],\n",
       "       [0., 0., 1., 0., 0., 1.],\n",
       "       [0., 0., 0., 0., 0., 1.]])"
      ]
     },
     "execution_count": 12,
     "metadata": {},
     "output_type": "execute_result"
    }
   ],
   "source": [
    "newM"
   ]
  },
  {
   "cell_type": "code",
   "execution_count": 13,
   "id": "9ec27674-af29-451e-8726-2ee84a942c19",
   "metadata": {},
   "outputs": [],
   "source": [
    "def correlations(lattice):\n",
    "    neighs = create_neighs()\n",
    "    \n",
    "    corr = 0\n",
    "    \n",
    "    N = len(lattice)\n",
    "    \n",
    "    for i in range(N):\n",
    "        for j in range(N):\n",
    "            for neigh in neighs[i%2]: #iterate through the neighbours\n",
    "                neigh_i, neigh_j = (i+neigh[0])%N, (j+neigh[1])%N #position of the neighbour \n",
    "                corr += lattice[i,j]*lattice[neigh_i,neigh_j] #add the correlations \n",
    "                \n",
    "    return corr/2 #avoid double counting"
   ]
  },
  {
   "cell_type": "code",
   "execution_count": 14,
   "id": "22d3f4e1-b3c9-4c6c-87b4-e2239b7aaaba",
   "metadata": {},
   "outputs": [],
   "source": [
    "def simulate_hoppings(N, particle_number, Beta,it_num):\n",
    "    lattice = create_lattice(N = N, particle_number = particle_number)\n",
    "    corrs = []\n",
    "    corrs.append(correlations(lattice))\n",
    "    #do it_num iterations\n",
    "    for n in range(it_num):\n",
    "        #create a new configuration with transition rates\n",
    "        newconfigs, rates = new_configurations(lattice = lattice, N = N, Beta = Beta)\n",
    "        \n",
    "        #update the lattice according to the transition rates\n",
    "        lattice = find_transition(lattice = lattice, N = N, new_configs = newconfigs, rates = rates, Beta = Beta)\n",
    "        \n",
    "        #add the new correlations to the corrs list\n",
    "        corrs.append(correlations(lattice))\n",
    "\n",
    "    return np.array(corrs)"
   ]
  },
  {
   "cell_type": "code",
   "execution_count": 15,
   "id": "85338dc1-1f66-4c8f-8da0-abe0d7027e5a",
   "metadata": {},
   "outputs": [],
   "source": [
    "import time"
   ]
  },
  {
   "cell_type": "code",
   "execution_count": 16,
   "id": "6000cb95-a7c5-4af9-a505-1035e3810565",
   "metadata": {},
   "outputs": [],
   "source": [
    "N = 40\n",
    "particle_number = 800\n",
    "Beta = 0.1"
   ]
  },
  {
   "cell_type": "code",
   "execution_count": 20,
   "id": "2a0341eb-a54c-494c-a249-633cbd24b632",
   "metadata": {},
   "outputs": [
    {
     "name": "stdout",
     "output_type": "stream",
     "text": [
      "CPU times: user 18.3 s, sys: 0 ns, total: 18.3 s\n",
      "Wall time: 18.4 s\n"
     ]
    }
   ],
   "source": [
    "%%time\n",
    "it_num = 1000\n",
    "cors = simulate_hoppings(N = N, particle_number = particle_number, Beta = Beta, it_num = it_num)"
   ]
  },
  {
   "cell_type": "code",
   "execution_count": null,
   "id": "6ff5d3bf-d104-41d3-959c-da15119ceed7",
   "metadata": {},
   "outputs": [],
   "source": []
  },
  {
   "cell_type": "code",
   "execution_count": null,
   "id": "97158e0c-e8b9-48fa-8e65-6a03b7b7c6aa",
   "metadata": {},
   "outputs": [],
   "source": [
    "plt.plot(cors)\n",
    "plt.xlabel(\"Iteration\",fontsize = 14)\n",
    "plt.ylabel(\"Correlation\", fontsize = 14)\n",
    "plt.show()"
   ]
  },
  {
   "cell_type": "code",
   "execution_count": null,
   "id": "d553b0ae-b8fa-4d8a-ab22-488d12172712",
   "metadata": {},
   "outputs": [],
   "source": [
    "cors[-1]/particle_number"
   ]
  },
  {
   "cell_type": "code",
   "execution_count": null,
   "id": "9a7016a2-0be5-4f36-8c2f-24ff94d614e9",
   "metadata": {},
   "outputs": [],
   "source": [
    "N = 40\n",
    "particle_number = 400\n",
    "Beta = 0.8"
   ]
  },
  {
   "cell_type": "code",
   "execution_count": null,
   "id": "d1a0cbeb-b384-473a-b6e7-0d7d4d45d904",
   "metadata": {},
   "outputs": [],
   "source": [
    "it_num = 5000\n",
    "cors = simulate_hoppings(N = N, particle_number = particle_number, Beta = Beta, it_num = it_num)"
   ]
  },
  {
   "cell_type": "code",
   "execution_count": null,
   "id": "0f9027bd-6965-4d1a-af91-02b6f81562d8",
   "metadata": {},
   "outputs": [],
   "source": [
    "plt.plot(cors)\n",
    "plt.xlabel(\"Iteration\",fontsize = 14)\n",
    "plt.ylabel(\"Correlation\", fontsize = 14)\n",
    "plt.show()"
   ]
  },
  {
   "cell_type": "code",
   "execution_count": null,
   "id": "53eb613c-322c-4e23-87c3-37a91a7cd78d",
   "metadata": {},
   "outputs": [],
   "source": [
    "cors[-1]/particle_number"
   ]
  },
  {
   "cell_type": "code",
   "execution_count": null,
   "id": "8bf110c3-6eb8-49b3-9e75-cdc94a2b3919",
   "metadata": {},
   "outputs": [],
   "source": [
    "def simulate_hoppings(N, particle_number, Betai, Betaf ,it_num):\n",
    "    lattice = create_lattice(N = N, particle_number = particle_number)\n",
    "    corrs = []\n",
    "    corrs.append(correlations(lattice))\n",
    "    \n",
    "    #linear cooling of the sample from Betai to Betaf\n",
    "    m = (Betaf-Betai)/(it_num+1)\n",
    "    Beta = Betai\n",
    "    #do it_num iterations\n",
    "    for n in range(it_num):\n",
    "        #first cool down the sample a bit\n",
    "        Beta += m\n",
    "        \n",
    "        #create a new configuration with transition rates\n",
    "        newconfigs, rates = new_configurations(lattice = lattice, N = N, Beta = Beta)\n",
    "        \n",
    "        #update the lattice according to the transition rates\n",
    "        lattice = find_transition(lattice = lattice, N = N, new_configs = newconfigs, rates = rates, Beta = Beta)\n",
    "        \n",
    "        #add the new correlations to the corrs list\n",
    "        corrs.append(correlations(lattice))\n",
    "\n",
    "    return np.array(corrs)"
   ]
  },
  {
   "cell_type": "code",
   "execution_count": null,
   "id": "56c2caa4-68ef-4e36-b569-2262031ed6c7",
   "metadata": {},
   "outputs": [],
   "source": [
    "N = 40\n",
    "particle_number = 400\n",
    "Betai = 0.5\n",
    "Betaf = 1.2\n",
    "it_num = 20000"
   ]
  },
  {
   "cell_type": "code",
   "execution_count": null,
   "id": "8aa06469-2cab-4731-b60b-e65461824b83",
   "metadata": {},
   "outputs": [],
   "source": [
    "cors = simulate_hoppings(N = N, particle_number = particle_number, Betai = Betai, Betaf = Betaf, it_num = it_num)"
   ]
  },
  {
   "cell_type": "code",
   "execution_count": null,
   "id": "82659533-167e-4c56-b137-f08fc9ef17ed",
   "metadata": {},
   "outputs": [],
   "source": [
    "plt.plot(cors)\n",
    "plt.xlabel(\"Iteration\",fontsize = 14)\n",
    "plt.ylabel(\"Correlation\", fontsize = 14)\n",
    "plt.show()"
   ]
  },
  {
   "cell_type": "code",
   "execution_count": null,
   "id": "77be1cf7-e659-4100-adf1-7cf0ac16f50f",
   "metadata": {},
   "outputs": [],
   "source": [
    "cors[-1]/particle_number"
   ]
  },
  {
   "cell_type": "code",
   "execution_count": null,
   "id": "265c8f8d-8b70-4f03-9674-20cfb958fc81",
   "metadata": {},
   "outputs": [],
   "source": []
  }
 ],
 "metadata": {
  "kernelspec": {
   "display_name": "Python 3 (ipykernel)",
   "language": "python",
   "name": "python3"
  },
  "language_info": {
   "codemirror_mode": {
    "name": "ipython",
    "version": 3
   },
   "file_extension": ".py",
   "mimetype": "text/x-python",
   "name": "python",
   "nbconvert_exporter": "python",
   "pygments_lexer": "ipython3",
   "version": "3.8.12"
  }
 },
 "nbformat": 4,
 "nbformat_minor": 5
}
